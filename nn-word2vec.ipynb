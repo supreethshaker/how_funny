{
 "cells": [
  {
   "cell_type": "code",
   "execution_count": 1,
   "id": "ea9a0d0f",
   "metadata": {
    "ExecuteTime": {
     "end_time": "2021-11-24T01:05:55.716797Z",
     "start_time": "2021-11-24T01:05:51.257165Z"
    }
   },
   "outputs": [],
   "source": [
    "import tensorflow as tf\n",
    "import numpy as np\n",
    "import pandas as pd\n",
    "from keras.layers import Dense\n",
    "from keras.models import Sequential\n",
    "from sklearn.metrics import accuracy_score, f1_score, precision_score, recall_score, confusion_matrix\n",
    "import seaborn as sns\n",
    "import matplotlib.pyplot as plt"
   ]
  },
  {
   "cell_type": "markdown",
   "id": "d71d88f4",
   "metadata": {},
   "source": [
    "# Word2Vec"
   ]
  },
  {
   "cell_type": "code",
   "execution_count": 2,
   "id": "f3cf344b",
   "metadata": {
    "ExecuteTime": {
     "end_time": "2021-11-24T01:05:56.908216Z",
     "start_time": "2021-11-24T01:05:55.718916Z"
    },
    "scrolled": true
   },
   "outputs": [
    {
     "data": {
      "text/html": [
       "<div>\n",
       "<style scoped>\n",
       "    .dataframe tbody tr th:only-of-type {\n",
       "        vertical-align: middle;\n",
       "    }\n",
       "\n",
       "    .dataframe tbody tr th {\n",
       "        vertical-align: top;\n",
       "    }\n",
       "\n",
       "    .dataframe thead th {\n",
       "        text-align: right;\n",
       "    }\n",
       "</style>\n",
       "<table border=\"1\" class=\"dataframe\">\n",
       "  <thead>\n",
       "    <tr style=\"text-align: right;\">\n",
       "      <th></th>\n",
       "      <th>Unnamed: 0</th>\n",
       "      <th>0</th>\n",
       "      <th>1</th>\n",
       "      <th>2</th>\n",
       "      <th>3</th>\n",
       "      <th>4</th>\n",
       "      <th>5</th>\n",
       "      <th>6</th>\n",
       "      <th>7</th>\n",
       "      <th>8</th>\n",
       "      <th>...</th>\n",
       "      <th>191</th>\n",
       "      <th>192</th>\n",
       "      <th>193</th>\n",
       "      <th>194</th>\n",
       "      <th>195</th>\n",
       "      <th>196</th>\n",
       "      <th>197</th>\n",
       "      <th>198</th>\n",
       "      <th>199</th>\n",
       "      <th>label</th>\n",
       "    </tr>\n",
       "  </thead>\n",
       "  <tbody>\n",
       "    <tr>\n",
       "      <th>0</th>\n",
       "      <td>0</td>\n",
       "      <td>0.283621</td>\n",
       "      <td>0.337758</td>\n",
       "      <td>0.374453</td>\n",
       "      <td>0.909987</td>\n",
       "      <td>0.153843</td>\n",
       "      <td>0.055045</td>\n",
       "      <td>0.210112</td>\n",
       "      <td>0.146602</td>\n",
       "      <td>-0.363172</td>\n",
       "      <td>...</td>\n",
       "      <td>0.277983</td>\n",
       "      <td>0.326706</td>\n",
       "      <td>-0.383001</td>\n",
       "      <td>-0.433541</td>\n",
       "      <td>-0.042509</td>\n",
       "      <td>-0.356880</td>\n",
       "      <td>0.508626</td>\n",
       "      <td>0.121620</td>\n",
       "      <td>0.149328</td>\n",
       "      <td>-1.0</td>\n",
       "    </tr>\n",
       "    <tr>\n",
       "      <th>1</th>\n",
       "      <td>1</td>\n",
       "      <td>-0.039872</td>\n",
       "      <td>0.107508</td>\n",
       "      <td>-0.168220</td>\n",
       "      <td>0.524480</td>\n",
       "      <td>0.244185</td>\n",
       "      <td>-0.053711</td>\n",
       "      <td>0.526280</td>\n",
       "      <td>-0.375397</td>\n",
       "      <td>-0.123167</td>\n",
       "      <td>...</td>\n",
       "      <td>0.503230</td>\n",
       "      <td>-0.075885</td>\n",
       "      <td>-0.749662</td>\n",
       "      <td>-0.165246</td>\n",
       "      <td>0.227849</td>\n",
       "      <td>-0.270127</td>\n",
       "      <td>0.099939</td>\n",
       "      <td>-0.199834</td>\n",
       "      <td>0.118743</td>\n",
       "      <td>-1.0</td>\n",
       "    </tr>\n",
       "    <tr>\n",
       "      <th>2</th>\n",
       "      <td>2</td>\n",
       "      <td>0.158202</td>\n",
       "      <td>-0.176163</td>\n",
       "      <td>-0.334855</td>\n",
       "      <td>-0.177998</td>\n",
       "      <td>0.128736</td>\n",
       "      <td>0.417267</td>\n",
       "      <td>0.138570</td>\n",
       "      <td>0.398593</td>\n",
       "      <td>0.287535</td>\n",
       "      <td>...</td>\n",
       "      <td>-0.158361</td>\n",
       "      <td>-0.508714</td>\n",
       "      <td>0.033835</td>\n",
       "      <td>-0.926046</td>\n",
       "      <td>-0.335094</td>\n",
       "      <td>-0.259315</td>\n",
       "      <td>0.192535</td>\n",
       "      <td>-0.206912</td>\n",
       "      <td>0.117974</td>\n",
       "      <td>-1.0</td>\n",
       "    </tr>\n",
       "    <tr>\n",
       "      <th>3</th>\n",
       "      <td>3</td>\n",
       "      <td>-0.361247</td>\n",
       "      <td>-0.909919</td>\n",
       "      <td>0.034487</td>\n",
       "      <td>-0.147707</td>\n",
       "      <td>0.117236</td>\n",
       "      <td>-0.881148</td>\n",
       "      <td>0.785486</td>\n",
       "      <td>-0.206083</td>\n",
       "      <td>-1.097644</td>\n",
       "      <td>...</td>\n",
       "      <td>0.814297</td>\n",
       "      <td>-0.425226</td>\n",
       "      <td>0.549037</td>\n",
       "      <td>-0.055518</td>\n",
       "      <td>0.075494</td>\n",
       "      <td>-0.196632</td>\n",
       "      <td>-0.036546</td>\n",
       "      <td>0.375700</td>\n",
       "      <td>0.159825</td>\n",
       "      <td>1.0</td>\n",
       "    </tr>\n",
       "    <tr>\n",
       "      <th>4</th>\n",
       "      <td>4</td>\n",
       "      <td>-0.090046</td>\n",
       "      <td>-0.025200</td>\n",
       "      <td>-0.797521</td>\n",
       "      <td>-0.000436</td>\n",
       "      <td>0.556524</td>\n",
       "      <td>-0.600837</td>\n",
       "      <td>0.605994</td>\n",
       "      <td>-0.709766</td>\n",
       "      <td>-0.055487</td>\n",
       "      <td>...</td>\n",
       "      <td>0.184136</td>\n",
       "      <td>-0.920483</td>\n",
       "      <td>-0.006100</td>\n",
       "      <td>0.581571</td>\n",
       "      <td>0.126250</td>\n",
       "      <td>-0.031224</td>\n",
       "      <td>-0.594102</td>\n",
       "      <td>-0.089011</td>\n",
       "      <td>-0.146019</td>\n",
       "      <td>1.0</td>\n",
       "    </tr>\n",
       "  </tbody>\n",
       "</table>\n",
       "<p>5 rows × 202 columns</p>\n",
       "</div>"
      ],
      "text/plain": [
       "   Unnamed: 0         0         1         2         3         4         5  \\\n",
       "0           0  0.283621  0.337758  0.374453  0.909987  0.153843  0.055045   \n",
       "1           1 -0.039872  0.107508 -0.168220  0.524480  0.244185 -0.053711   \n",
       "2           2  0.158202 -0.176163 -0.334855 -0.177998  0.128736  0.417267   \n",
       "3           3 -0.361247 -0.909919  0.034487 -0.147707  0.117236 -0.881148   \n",
       "4           4 -0.090046 -0.025200 -0.797521 -0.000436  0.556524 -0.600837   \n",
       "\n",
       "          6         7         8  ...       191       192       193       194  \\\n",
       "0  0.210112  0.146602 -0.363172  ...  0.277983  0.326706 -0.383001 -0.433541   \n",
       "1  0.526280 -0.375397 -0.123167  ...  0.503230 -0.075885 -0.749662 -0.165246   \n",
       "2  0.138570  0.398593  0.287535  ... -0.158361 -0.508714  0.033835 -0.926046   \n",
       "3  0.785486 -0.206083 -1.097644  ...  0.814297 -0.425226  0.549037 -0.055518   \n",
       "4  0.605994 -0.709766 -0.055487  ...  0.184136 -0.920483 -0.006100  0.581571   \n",
       "\n",
       "        195       196       197       198       199  label  \n",
       "0 -0.042509 -0.356880  0.508626  0.121620  0.149328   -1.0  \n",
       "1  0.227849 -0.270127  0.099939 -0.199834  0.118743   -1.0  \n",
       "2 -0.335094 -0.259315  0.192535 -0.206912  0.117974   -1.0  \n",
       "3  0.075494 -0.196632 -0.036546  0.375700  0.159825    1.0  \n",
       "4  0.126250 -0.031224 -0.594102 -0.089011 -0.146019    1.0  \n",
       "\n",
       "[5 rows x 202 columns]"
      ]
     },
     "execution_count": 2,
     "metadata": {},
     "output_type": "execute_result"
    }
   ],
   "source": [
    "X_train = pd.read_csv('data/Word2Vec train.csv')\n",
    "X_train = X_train.dropna()\n",
    "X_train.head()"
   ]
  },
  {
   "cell_type": "code",
   "execution_count": 3,
   "id": "a676d77d",
   "metadata": {
    "ExecuteTime": {
     "end_time": "2021-11-24T01:05:56.912495Z",
     "start_time": "2021-11-24T01:05:56.910295Z"
    }
   },
   "outputs": [],
   "source": [
    "y_train = X_train['label']"
   ]
  },
  {
   "cell_type": "code",
   "execution_count": 4,
   "id": "9237fd90",
   "metadata": {
    "ExecuteTime": {
     "end_time": "2021-11-24T01:05:56.927441Z",
     "start_time": "2021-11-24T01:05:56.913806Z"
    }
   },
   "outputs": [],
   "source": [
    "drop_labels = ['Unnamed: 0', 'label']\n",
    "X_train = X_train.drop(columns=drop_labels)"
   ]
  },
  {
   "cell_type": "code",
   "execution_count": 5,
   "id": "737239b9",
   "metadata": {
    "ExecuteTime": {
     "end_time": "2021-11-24T01:05:57.252620Z",
     "start_time": "2021-11-24T01:05:56.928883Z"
    },
    "scrolled": true
   },
   "outputs": [
    {
     "data": {
      "text/html": [
       "<div>\n",
       "<style scoped>\n",
       "    .dataframe tbody tr th:only-of-type {\n",
       "        vertical-align: middle;\n",
       "    }\n",
       "\n",
       "    .dataframe tbody tr th {\n",
       "        vertical-align: top;\n",
       "    }\n",
       "\n",
       "    .dataframe thead th {\n",
       "        text-align: right;\n",
       "    }\n",
       "</style>\n",
       "<table border=\"1\" class=\"dataframe\">\n",
       "  <thead>\n",
       "    <tr style=\"text-align: right;\">\n",
       "      <th></th>\n",
       "      <th>Unnamed: 0</th>\n",
       "      <th>0</th>\n",
       "      <th>1</th>\n",
       "      <th>2</th>\n",
       "      <th>3</th>\n",
       "      <th>4</th>\n",
       "      <th>5</th>\n",
       "      <th>6</th>\n",
       "      <th>7</th>\n",
       "      <th>8</th>\n",
       "      <th>...</th>\n",
       "      <th>191</th>\n",
       "      <th>192</th>\n",
       "      <th>193</th>\n",
       "      <th>194</th>\n",
       "      <th>195</th>\n",
       "      <th>196</th>\n",
       "      <th>197</th>\n",
       "      <th>198</th>\n",
       "      <th>199</th>\n",
       "      <th>label</th>\n",
       "    </tr>\n",
       "  </thead>\n",
       "  <tbody>\n",
       "    <tr>\n",
       "      <th>0</th>\n",
       "      <td>0</td>\n",
       "      <td>0.191753</td>\n",
       "      <td>0.288973</td>\n",
       "      <td>0.247580</td>\n",
       "      <td>-0.042001</td>\n",
       "      <td>0.394053</td>\n",
       "      <td>-0.261415</td>\n",
       "      <td>0.386442</td>\n",
       "      <td>0.356878</td>\n",
       "      <td>0.249086</td>\n",
       "      <td>...</td>\n",
       "      <td>0.081700</td>\n",
       "      <td>0.042400</td>\n",
       "      <td>-0.011659</td>\n",
       "      <td>0.031773</td>\n",
       "      <td>0.323535</td>\n",
       "      <td>-0.316973</td>\n",
       "      <td>-0.303285</td>\n",
       "      <td>-0.221888</td>\n",
       "      <td>0.412979</td>\n",
       "      <td>-1.0</td>\n",
       "    </tr>\n",
       "    <tr>\n",
       "      <th>1</th>\n",
       "      <td>1</td>\n",
       "      <td>-0.451899</td>\n",
       "      <td>-0.791872</td>\n",
       "      <td>-0.442395</td>\n",
       "      <td>0.164301</td>\n",
       "      <td>0.377688</td>\n",
       "      <td>0.217620</td>\n",
       "      <td>0.113543</td>\n",
       "      <td>-0.059942</td>\n",
       "      <td>0.201949</td>\n",
       "      <td>...</td>\n",
       "      <td>0.729109</td>\n",
       "      <td>-0.833580</td>\n",
       "      <td>0.832179</td>\n",
       "      <td>-1.348479</td>\n",
       "      <td>-0.689872</td>\n",
       "      <td>-1.192101</td>\n",
       "      <td>0.897287</td>\n",
       "      <td>0.329111</td>\n",
       "      <td>0.265638</td>\n",
       "      <td>1.0</td>\n",
       "    </tr>\n",
       "    <tr>\n",
       "      <th>2</th>\n",
       "      <td>2</td>\n",
       "      <td>0.068307</td>\n",
       "      <td>0.135415</td>\n",
       "      <td>0.350003</td>\n",
       "      <td>0.367741</td>\n",
       "      <td>-0.055465</td>\n",
       "      <td>-0.326503</td>\n",
       "      <td>0.426363</td>\n",
       "      <td>0.267416</td>\n",
       "      <td>-0.401879</td>\n",
       "      <td>...</td>\n",
       "      <td>0.454472</td>\n",
       "      <td>-0.241243</td>\n",
       "      <td>0.073759</td>\n",
       "      <td>0.256563</td>\n",
       "      <td>0.299901</td>\n",
       "      <td>0.552605</td>\n",
       "      <td>0.226103</td>\n",
       "      <td>-0.094215</td>\n",
       "      <td>0.109464</td>\n",
       "      <td>1.0</td>\n",
       "    </tr>\n",
       "    <tr>\n",
       "      <th>3</th>\n",
       "      <td>3</td>\n",
       "      <td>-0.148776</td>\n",
       "      <td>0.412112</td>\n",
       "      <td>-0.217662</td>\n",
       "      <td>-0.117164</td>\n",
       "      <td>0.809389</td>\n",
       "      <td>-0.813973</td>\n",
       "      <td>0.794019</td>\n",
       "      <td>-0.578328</td>\n",
       "      <td>0.165938</td>\n",
       "      <td>...</td>\n",
       "      <td>0.924582</td>\n",
       "      <td>-0.276797</td>\n",
       "      <td>0.395905</td>\n",
       "      <td>-0.609423</td>\n",
       "      <td>-0.129927</td>\n",
       "      <td>-0.244953</td>\n",
       "      <td>0.176270</td>\n",
       "      <td>0.100467</td>\n",
       "      <td>-0.779356</td>\n",
       "      <td>1.0</td>\n",
       "    </tr>\n",
       "    <tr>\n",
       "      <th>4</th>\n",
       "      <td>4</td>\n",
       "      <td>-0.667856</td>\n",
       "      <td>-0.230222</td>\n",
       "      <td>-0.194447</td>\n",
       "      <td>0.258269</td>\n",
       "      <td>-0.318361</td>\n",
       "      <td>-0.281466</td>\n",
       "      <td>0.165903</td>\n",
       "      <td>0.246196</td>\n",
       "      <td>0.410119</td>\n",
       "      <td>...</td>\n",
       "      <td>0.325429</td>\n",
       "      <td>-0.424461</td>\n",
       "      <td>0.012939</td>\n",
       "      <td>0.451042</td>\n",
       "      <td>-0.651186</td>\n",
       "      <td>-0.213149</td>\n",
       "      <td>-0.086050</td>\n",
       "      <td>-0.680593</td>\n",
       "      <td>0.107228</td>\n",
       "      <td>-1.0</td>\n",
       "    </tr>\n",
       "  </tbody>\n",
       "</table>\n",
       "<p>5 rows × 202 columns</p>\n",
       "</div>"
      ],
      "text/plain": [
       "   Unnamed: 0         0         1         2         3         4         5  \\\n",
       "0           0  0.191753  0.288973  0.247580 -0.042001  0.394053 -0.261415   \n",
       "1           1 -0.451899 -0.791872 -0.442395  0.164301  0.377688  0.217620   \n",
       "2           2  0.068307  0.135415  0.350003  0.367741 -0.055465 -0.326503   \n",
       "3           3 -0.148776  0.412112 -0.217662 -0.117164  0.809389 -0.813973   \n",
       "4           4 -0.667856 -0.230222 -0.194447  0.258269 -0.318361 -0.281466   \n",
       "\n",
       "          6         7         8  ...       191       192       193       194  \\\n",
       "0  0.386442  0.356878  0.249086  ...  0.081700  0.042400 -0.011659  0.031773   \n",
       "1  0.113543 -0.059942  0.201949  ...  0.729109 -0.833580  0.832179 -1.348479   \n",
       "2  0.426363  0.267416 -0.401879  ...  0.454472 -0.241243  0.073759  0.256563   \n",
       "3  0.794019 -0.578328  0.165938  ...  0.924582 -0.276797  0.395905 -0.609423   \n",
       "4  0.165903  0.246196  0.410119  ...  0.325429 -0.424461  0.012939  0.451042   \n",
       "\n",
       "        195       196       197       198       199  label  \n",
       "0  0.323535 -0.316973 -0.303285 -0.221888  0.412979   -1.0  \n",
       "1 -0.689872 -1.192101  0.897287  0.329111  0.265638    1.0  \n",
       "2  0.299901  0.552605  0.226103 -0.094215  0.109464    1.0  \n",
       "3 -0.129927 -0.244953  0.176270  0.100467 -0.779356    1.0  \n",
       "4 -0.651186 -0.213149 -0.086050 -0.680593  0.107228   -1.0  \n",
       "\n",
       "[5 rows x 202 columns]"
      ]
     },
     "execution_count": 5,
     "metadata": {},
     "output_type": "execute_result"
    }
   ],
   "source": [
    "X_test = pd.read_csv('data/Word2Vec test.csv')\n",
    "X_test = X_test.dropna()\n",
    "X_test.head()"
   ]
  },
  {
   "cell_type": "code",
   "execution_count": 6,
   "id": "346f2fce",
   "metadata": {
    "ExecuteTime": {
     "end_time": "2021-11-24T01:05:57.256565Z",
     "start_time": "2021-11-24T01:05:57.254154Z"
    }
   },
   "outputs": [],
   "source": [
    "y_test = X_test['label']"
   ]
  },
  {
   "cell_type": "code",
   "execution_count": 7,
   "id": "26ef08a7",
   "metadata": {
    "ExecuteTime": {
     "end_time": "2021-11-24T01:05:57.279375Z",
     "start_time": "2021-11-24T01:05:57.259764Z"
    }
   },
   "outputs": [
    {
     "data": {
      "text/html": [
       "<div>\n",
       "<style scoped>\n",
       "    .dataframe tbody tr th:only-of-type {\n",
       "        vertical-align: middle;\n",
       "    }\n",
       "\n",
       "    .dataframe tbody tr th {\n",
       "        vertical-align: top;\n",
       "    }\n",
       "\n",
       "    .dataframe thead th {\n",
       "        text-align: right;\n",
       "    }\n",
       "</style>\n",
       "<table border=\"1\" class=\"dataframe\">\n",
       "  <thead>\n",
       "    <tr style=\"text-align: right;\">\n",
       "      <th></th>\n",
       "      <th>0</th>\n",
       "      <th>1</th>\n",
       "      <th>2</th>\n",
       "      <th>3</th>\n",
       "      <th>4</th>\n",
       "      <th>5</th>\n",
       "      <th>6</th>\n",
       "      <th>7</th>\n",
       "      <th>8</th>\n",
       "      <th>9</th>\n",
       "      <th>...</th>\n",
       "      <th>190</th>\n",
       "      <th>191</th>\n",
       "      <th>192</th>\n",
       "      <th>193</th>\n",
       "      <th>194</th>\n",
       "      <th>195</th>\n",
       "      <th>196</th>\n",
       "      <th>197</th>\n",
       "      <th>198</th>\n",
       "      <th>199</th>\n",
       "    </tr>\n",
       "  </thead>\n",
       "  <tbody>\n",
       "    <tr>\n",
       "      <th>0</th>\n",
       "      <td>0.191753</td>\n",
       "      <td>0.288973</td>\n",
       "      <td>0.247580</td>\n",
       "      <td>-0.042001</td>\n",
       "      <td>0.394053</td>\n",
       "      <td>-0.261415</td>\n",
       "      <td>0.386442</td>\n",
       "      <td>0.356878</td>\n",
       "      <td>0.249086</td>\n",
       "      <td>-0.726407</td>\n",
       "      <td>...</td>\n",
       "      <td>0.289306</td>\n",
       "      <td>0.081700</td>\n",
       "      <td>0.042400</td>\n",
       "      <td>-0.011659</td>\n",
       "      <td>0.031773</td>\n",
       "      <td>0.323535</td>\n",
       "      <td>-0.316973</td>\n",
       "      <td>-0.303285</td>\n",
       "      <td>-0.221888</td>\n",
       "      <td>0.412979</td>\n",
       "    </tr>\n",
       "    <tr>\n",
       "      <th>1</th>\n",
       "      <td>-0.451899</td>\n",
       "      <td>-0.791872</td>\n",
       "      <td>-0.442395</td>\n",
       "      <td>0.164301</td>\n",
       "      <td>0.377688</td>\n",
       "      <td>0.217620</td>\n",
       "      <td>0.113543</td>\n",
       "      <td>-0.059942</td>\n",
       "      <td>0.201949</td>\n",
       "      <td>-0.562213</td>\n",
       "      <td>...</td>\n",
       "      <td>-1.080461</td>\n",
       "      <td>0.729109</td>\n",
       "      <td>-0.833580</td>\n",
       "      <td>0.832179</td>\n",
       "      <td>-1.348479</td>\n",
       "      <td>-0.689872</td>\n",
       "      <td>-1.192101</td>\n",
       "      <td>0.897287</td>\n",
       "      <td>0.329111</td>\n",
       "      <td>0.265638</td>\n",
       "    </tr>\n",
       "    <tr>\n",
       "      <th>2</th>\n",
       "      <td>0.068307</td>\n",
       "      <td>0.135415</td>\n",
       "      <td>0.350003</td>\n",
       "      <td>0.367741</td>\n",
       "      <td>-0.055465</td>\n",
       "      <td>-0.326503</td>\n",
       "      <td>0.426363</td>\n",
       "      <td>0.267416</td>\n",
       "      <td>-0.401879</td>\n",
       "      <td>-0.381673</td>\n",
       "      <td>...</td>\n",
       "      <td>-0.066184</td>\n",
       "      <td>0.454472</td>\n",
       "      <td>-0.241243</td>\n",
       "      <td>0.073759</td>\n",
       "      <td>0.256563</td>\n",
       "      <td>0.299901</td>\n",
       "      <td>0.552605</td>\n",
       "      <td>0.226103</td>\n",
       "      <td>-0.094215</td>\n",
       "      <td>0.109464</td>\n",
       "    </tr>\n",
       "    <tr>\n",
       "      <th>3</th>\n",
       "      <td>-0.148776</td>\n",
       "      <td>0.412112</td>\n",
       "      <td>-0.217662</td>\n",
       "      <td>-0.117164</td>\n",
       "      <td>0.809389</td>\n",
       "      <td>-0.813973</td>\n",
       "      <td>0.794019</td>\n",
       "      <td>-0.578328</td>\n",
       "      <td>0.165938</td>\n",
       "      <td>-0.740104</td>\n",
       "      <td>...</td>\n",
       "      <td>0.598203</td>\n",
       "      <td>0.924582</td>\n",
       "      <td>-0.276797</td>\n",
       "      <td>0.395905</td>\n",
       "      <td>-0.609423</td>\n",
       "      <td>-0.129927</td>\n",
       "      <td>-0.244953</td>\n",
       "      <td>0.176270</td>\n",
       "      <td>0.100467</td>\n",
       "      <td>-0.779356</td>\n",
       "    </tr>\n",
       "    <tr>\n",
       "      <th>4</th>\n",
       "      <td>-0.667856</td>\n",
       "      <td>-0.230222</td>\n",
       "      <td>-0.194447</td>\n",
       "      <td>0.258269</td>\n",
       "      <td>-0.318361</td>\n",
       "      <td>-0.281466</td>\n",
       "      <td>0.165903</td>\n",
       "      <td>0.246196</td>\n",
       "      <td>0.410119</td>\n",
       "      <td>-0.124090</td>\n",
       "      <td>...</td>\n",
       "      <td>0.399716</td>\n",
       "      <td>0.325429</td>\n",
       "      <td>-0.424461</td>\n",
       "      <td>0.012939</td>\n",
       "      <td>0.451042</td>\n",
       "      <td>-0.651186</td>\n",
       "      <td>-0.213149</td>\n",
       "      <td>-0.086050</td>\n",
       "      <td>-0.680593</td>\n",
       "      <td>0.107228</td>\n",
       "    </tr>\n",
       "  </tbody>\n",
       "</table>\n",
       "<p>5 rows × 200 columns</p>\n",
       "</div>"
      ],
      "text/plain": [
       "          0         1         2         3         4         5         6  \\\n",
       "0  0.191753  0.288973  0.247580 -0.042001  0.394053 -0.261415  0.386442   \n",
       "1 -0.451899 -0.791872 -0.442395  0.164301  0.377688  0.217620  0.113543   \n",
       "2  0.068307  0.135415  0.350003  0.367741 -0.055465 -0.326503  0.426363   \n",
       "3 -0.148776  0.412112 -0.217662 -0.117164  0.809389 -0.813973  0.794019   \n",
       "4 -0.667856 -0.230222 -0.194447  0.258269 -0.318361 -0.281466  0.165903   \n",
       "\n",
       "          7         8         9  ...       190       191       192       193  \\\n",
       "0  0.356878  0.249086 -0.726407  ...  0.289306  0.081700  0.042400 -0.011659   \n",
       "1 -0.059942  0.201949 -0.562213  ... -1.080461  0.729109 -0.833580  0.832179   \n",
       "2  0.267416 -0.401879 -0.381673  ... -0.066184  0.454472 -0.241243  0.073759   \n",
       "3 -0.578328  0.165938 -0.740104  ...  0.598203  0.924582 -0.276797  0.395905   \n",
       "4  0.246196  0.410119 -0.124090  ...  0.399716  0.325429 -0.424461  0.012939   \n",
       "\n",
       "        194       195       196       197       198       199  \n",
       "0  0.031773  0.323535 -0.316973 -0.303285 -0.221888  0.412979  \n",
       "1 -1.348479 -0.689872 -1.192101  0.897287  0.329111  0.265638  \n",
       "2  0.256563  0.299901  0.552605  0.226103 -0.094215  0.109464  \n",
       "3 -0.609423 -0.129927 -0.244953  0.176270  0.100467 -0.779356  \n",
       "4  0.451042 -0.651186 -0.213149 -0.086050 -0.680593  0.107228  \n",
       "\n",
       "[5 rows x 200 columns]"
      ]
     },
     "execution_count": 7,
     "metadata": {},
     "output_type": "execute_result"
    }
   ],
   "source": [
    "X_test = X_test.drop(columns=drop_labels)\n",
    "X_test.head()"
   ]
  },
  {
   "cell_type": "code",
   "execution_count": 8,
   "id": "72405b7e",
   "metadata": {
    "ExecuteTime": {
     "end_time": "2021-11-24T01:05:57.297447Z",
     "start_time": "2021-11-24T01:05:57.282267Z"
    }
   },
   "outputs": [],
   "source": [
    "y_train = np.array([max(i, 0) for i in y_train])"
   ]
  },
  {
   "cell_type": "code",
   "execution_count": 9,
   "id": "9dce57fe",
   "metadata": {
    "ExecuteTime": {
     "end_time": "2021-11-24T01:05:57.304351Z",
     "start_time": "2021-11-24T01:05:57.298981Z"
    }
   },
   "outputs": [],
   "source": [
    "y_test = np.array([max(i, 0) for i in y_test])"
   ]
  },
  {
   "cell_type": "code",
   "execution_count": 10,
   "id": "38d153e5",
   "metadata": {
    "ExecuteTime": {
     "end_time": "2021-11-24T01:05:57.310301Z",
     "start_time": "2021-11-24T01:05:57.305930Z"
    }
   },
   "outputs": [
    {
     "data": {
      "text/plain": [
       "array([0., 1., 1., ..., 1., 1., 1.])"
      ]
     },
     "execution_count": 10,
     "metadata": {},
     "output_type": "execute_result"
    }
   ],
   "source": [
    "y_test"
   ]
  },
  {
   "cell_type": "markdown",
   "id": "cb8e7cdf",
   "metadata": {},
   "source": [
    "# Define Model "
   ]
  },
  {
   "cell_type": "code",
   "execution_count": 11,
   "id": "097bfe44",
   "metadata": {
    "ExecuteTime": {
     "end_time": "2021-11-24T01:05:57.338654Z",
     "start_time": "2021-11-24T01:05:57.312116Z"
    }
   },
   "outputs": [],
   "source": [
    "model = Sequential([\n",
    "    Dense(2048, activation='relu', input_shape=(200,)),\n",
    "    Dense(1, activation='sigmoid')\n",
    "\n",
    "])"
   ]
  },
  {
   "cell_type": "code",
   "execution_count": 12,
   "id": "d53cc7de",
   "metadata": {
    "ExecuteTime": {
     "end_time": "2021-11-24T01:05:57.447041Z",
     "start_time": "2021-11-24T01:05:57.340151Z"
    }
   },
   "outputs": [],
   "source": [
    "model.compile(optimizer='adam',\n",
    "              loss=tf.keras.losses.BinaryCrossentropy(),\n",
    "              metrics=['accuracy']\n",
    "              )"
   ]
  },
  {
   "cell_type": "code",
   "execution_count": 13,
   "id": "d9dc0138",
   "metadata": {
    "ExecuteTime": {
     "end_time": "2021-11-24T01:05:57.451718Z",
     "start_time": "2021-11-24T01:05:57.448570Z"
    }
   },
   "outputs": [],
   "source": [
    "es = tf.keras.callbacks.EarlyStopping(monitor='val_loss', patience=5)"
   ]
  },
  {
   "cell_type": "code",
   "execution_count": 14,
   "id": "6b7feec7",
   "metadata": {
    "ExecuteTime": {
     "end_time": "2021-11-24T01:06:15.980008Z",
     "start_time": "2021-11-24T01:05:57.453531Z"
    }
   },
   "outputs": [
    {
     "name": "stdout",
     "output_type": "stream",
     "text": [
      "Epoch 1/100\n",
      "1250/1250 [==============================] - 3s 2ms/step - loss: 0.1019 - accuracy: 0.9624 - val_loss: 0.0766 - val_accuracy: 0.9713\n",
      "Epoch 2/100\n",
      "1250/1250 [==============================] - 3s 2ms/step - loss: 0.0636 - accuracy: 0.9772 - val_loss: 0.0710 - val_accuracy: 0.9747\n",
      "Epoch 3/100\n",
      "1250/1250 [==============================] - 3s 2ms/step - loss: 0.0461 - accuracy: 0.9836 - val_loss: 0.0726 - val_accuracy: 0.9755\n",
      "Epoch 4/100\n",
      "1250/1250 [==============================] - 2s 2ms/step - loss: 0.0346 - accuracy: 0.9881 - val_loss: 0.0735 - val_accuracy: 0.9761\n",
      "Epoch 5/100\n",
      "1250/1250 [==============================] - 2s 2ms/step - loss: 0.0284 - accuracy: 0.9901 - val_loss: 0.0778 - val_accuracy: 0.9750\n",
      "Epoch 6/100\n",
      "1250/1250 [==============================] - 3s 2ms/step - loss: 0.0211 - accuracy: 0.9930 - val_loss: 0.1087 - val_accuracy: 0.9689\n",
      "Epoch 7/100\n",
      "1250/1250 [==============================] - 3s 2ms/step - loss: 0.0153 - accuracy: 0.9954 - val_loss: 0.0863 - val_accuracy: 0.9771\n"
     ]
    },
    {
     "data": {
      "text/plain": [
       "<keras.callbacks.History at 0x7f9491e5da60>"
      ]
     },
     "execution_count": 14,
     "metadata": {},
     "output_type": "execute_result"
    }
   ],
   "source": [
    "model.fit(X_train, y_train,\n",
    "          validation_data=(X_test, y_test),\n",
    "          epochs=100,\n",
    "          callbacks=[es]\n",
    "          )"
   ]
  },
  {
   "cell_type": "markdown",
   "id": "a573a8e4",
   "metadata": {},
   "source": [
    "# Evaluate Neural Networks"
   ]
  },
  {
   "cell_type": "code",
   "execution_count": 15,
   "id": "85b60f2e",
   "metadata": {
    "ExecuteTime": {
     "end_time": "2021-11-24T01:06:15.993727Z",
     "start_time": "2021-11-24T01:06:15.983716Z"
    }
   },
   "outputs": [],
   "source": [
    "def evaluate_model(model, train, y_train, test, y_test):\n",
    "    pred_train = np.round(model.predict(train))\n",
    "    pred_test = np.round(model.predict(test))\n",
    "    \n",
    "    train_acc = accuracy_score(y_train, pred_train)\n",
    "    train_f1 = f1_score(y_train, pred_train)\n",
    "    train_precision = precision_score(y_train, pred_train)\n",
    "    train_recall = recall_score(y_train, pred_train)\n",
    "    \n",
    "    test_acc = accuracy_score(y_test, pred_test)\n",
    "    test_f1 = f1_score(y_test, pred_test)\n",
    "    test_precision = precision_score(y_test, pred_test)\n",
    "    test_recall = recall_score(y_test, pred_test)\n",
    "    \n",
    "    \n",
    "    plt.figure(figsize=(5,5))\n",
    "    cm = confusion_matrix(y_train, pred_train)\n",
    "    sns.heatmap(cm, cmap='Blues', annot=True, fmt='g')\n",
    "    plt.title(\"Train: True Labels vs Predicted Labels\")\n",
    "    \n",
    "    plt.figure(figsize=(5,5))\n",
    "    cm = confusion_matrix(y_test, pred_test)\n",
    "    sns.heatmap(cm, cmap='Blues', annot=True, fmt='g')\n",
    "    plt.title(\"Test: True Labels vs Predicted Labels\")\n",
    "    \n",
    "    print(\"Train Accuracy:  %f\" % (train_acc))\n",
    "    print(\"Train F1-Score:  %f\" %(train_f1))\n",
    "    print(\"Train Precision: %f\" %(train_precision))\n",
    "    print(\"Train Recall:    %f\" %(train_recall))\n",
    "    print()\n",
    "    print(\"Test Accuracy:   %f\" % (test_acc))\n",
    "    print(\"Test F1-Score:   %f\" %(test_f1))\n",
    "    print(\"Test Precision:  %f\" %(test_precision))\n",
    "    print(\"Test Recall:     %f\" %(test_recall))\n",
    "    \n",
    "    metrics = {\n",
    "        'train_accuracy': train_acc,\n",
    "        'train_f1':train_f1,\n",
    "        'train_precision':train_precision,\n",
    "        'train_recall':train_recall,\n",
    "        'test_accuracy':test_acc,\n",
    "        'test_f1':test_f1,\n",
    "        'test_precision':test_precision,\n",
    "        'test_recall':test_recall,\n",
    "    }\n",
    "    return metrics\n",
    "    "
   ]
  },
  {
   "cell_type": "code",
   "execution_count": 16,
   "id": "8ccd2c9e",
   "metadata": {
    "ExecuteTime": {
     "end_time": "2021-11-24T01:06:17.490591Z",
     "start_time": "2021-11-24T01:06:15.995187Z"
    }
   },
   "outputs": [
    {
     "name": "stdout",
     "output_type": "stream",
     "text": [
      "Train Accuracy:  0.997450\n",
      "Train F1-Score:  0.997449\n",
      "Train Precision: 0.996503\n",
      "Train Recall:    0.998398\n",
      "\n",
      "Test Accuracy:   0.977098\n",
      "Test F1-Score:   0.977116\n",
      "Test Precision:  0.980546\n",
      "Test Recall:     0.973710\n"
     ]
    },
    {
     "data": {
      "text/plain": [
       "{'train_accuracy': 0.9974499362484062,\n",
       " 'train_f1': 0.9974494898979797,\n",
       " 'train_precision': 0.9965026230327254,\n",
       " 'train_recall': 0.9983981578815638,\n",
       " 'test_accuracy': 0.9770977097709771,\n",
       " 'test_f1': 0.9771160187868492,\n",
       " 'test_precision': 0.9805455274769355,\n",
       " 'test_recall': 0.9737104162517427}"
      ]
     },
     "execution_count": 16,
     "metadata": {},
     "output_type": "execute_result"
    },
    {
     "data": {
      "image/png": "[encoded data removed]",
      "text/plain": [
       "<Figure size 360x360 with 2 Axes>"
      ]
     },
     "metadata": {
      "needs_background": "light"
     },
     "output_type": "display_data"
    },
    {
     "data": {
      "image/png": "[encoded data removed]",
      "text/plain": [
       "<Figure size 360x360 with 2 Axes>"
      ]
     },
     "metadata": {
      "needs_background": "light"
     },
     "output_type": "display_data"
    }
   ],
   "source": [
    "evaluate_model(model, X_train, y_train, X_test, y_test)"
   ]
  }
 ],
 "metadata": {
  "hide_input": false,
  "kernelspec": {
   "display_name": "Python [conda env:tf] *",
   "language": "python",
   "name": "conda-env-tf-py"
  },
  "language_info": {
   "codemirror_mode": {
    "name": "ipython",
    "version": 3
   },
   "file_extension": ".py",
   "mimetype": "text/x-python",
   "name": "python",
   "nbconvert_exporter": "python",
   "pygments_lexer": "ipython3",
   "version": "3.8.11"
  },
  "toc": {
   "base_numbering": 1,
   "nav_menu": {},
   "number_sections": true,
   "sideBar": true,
   "skip_h1_title": false,
   "title_cell": "Table of Contents",
   "title_sidebar": "Contents",
   "toc_cell": false,
   "toc_position": {},
   "toc_section_display": true,
   "toc_window_display": false
  },
  "varInspector": {
   "cols": {
    "lenName": 16,
    "lenType": 16,
    "lenVar": 40
   },
   "kernels_config": {
    "python": {
     "delete_cmd_postfix": "",
     "delete_cmd_prefix": "del ",
     "library": "var_list.py",
     "varRefreshCmd": "print(var_dic_list())"
    },
    "r": {
     "delete_cmd_postfix": ") ",
     "delete_cmd_prefix": "rm(",
     "library": "var_list.r",
     "varRefreshCmd": "cat(var_dic_list()) "
    }
   },
   "types_to_exclude": [
    "module",
    "function",
    "builtin_function_or_method",
    "instance",
    "_Feature"
   ],
   "window_display": false
  }
 },
 "nbformat": 4,
 "nbformat_minor": 5
}
