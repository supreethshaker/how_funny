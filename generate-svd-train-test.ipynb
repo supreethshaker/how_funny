{
 "cells": [
  {
   "cell_type": "code",
   "execution_count": 1,
   "id": "c9725da4",
   "metadata": {
    "ExecuteTime": {
     "end_time": "2021-11-23T02:37:43.643255Z",
     "start_time": "2021-11-23T02:37:42.893796Z"
    }
   },
   "outputs": [],
   "source": [
    "import pandas as pd\n",
    "import numpy as np"
   ]
  },
  {
   "cell_type": "code",
   "execution_count": 2,
   "id": "20502387",
   "metadata": {
    "ExecuteTime": {
     "end_time": "2021-11-23T02:37:52.719490Z",
     "start_time": "2021-11-23T02:37:43.648115Z"
    }
   },
   "outputs": [
    {
     "name": "stderr",
     "output_type": "stream",
     "text": [
      "/opt/anaconda3/envs/tf/lib/python3.8/site-packages/IPython/core/interactiveshell.py:3441: DtypeWarning: Columns (0) have mixed types.Specify dtype option on import or set low_memory=False.\n",
      "  exec(code_obj, self.user_global_ns, self.user_ns)\n"
     ]
    },
    {
     "data": {
      "text/html": [
       "<div>\n",
       "<style scoped>\n",
       "    .dataframe tbody tr th:only-of-type {\n",
       "        vertical-align: middle;\n",
       "    }\n",
       "\n",
       "    .dataframe tbody tr th {\n",
       "        vertical-align: top;\n",
       "    }\n",
       "\n",
       "    .dataframe thead th {\n",
       "        text-align: right;\n",
       "    }\n",
       "</style>\n",
       "<table border=\"1\" class=\"dataframe\">\n",
       "  <thead>\n",
       "    <tr style=\"text-align: right;\">\n",
       "      <th></th>\n",
       "      <th>Unnamed: 0</th>\n",
       "      <th>original text</th>\n",
       "      <th>cleaned text</th>\n",
       "      <th>joke</th>\n",
       "    </tr>\n",
       "  </thead>\n",
       "  <tbody>\n",
       "    <tr>\n",
       "      <th>0</th>\n",
       "      <td>0</td>\n",
       "      <td>I am soooo glad I'm not circumcised! My corona...</td>\n",
       "      <td>soooo glad circumcised corona covered foreskin...</td>\n",
       "      <td>1.0</td>\n",
       "    </tr>\n",
       "    <tr>\n",
       "      <th>1</th>\n",
       "      <td>1</td>\n",
       "      <td>Did you know Google now has a platform for rec...</td>\n",
       "      <td>know google platform recording bowel movements...</td>\n",
       "      <td>1.0</td>\n",
       "    </tr>\n",
       "    <tr>\n",
       "      <th>2</th>\n",
       "      <td>2</td>\n",
       "      <td>What is the difference between my wife and my ...</td>\n",
       "      <td>difference wife vacuum vacuum nt snore sex amp...</td>\n",
       "      <td>1.0</td>\n",
       "    </tr>\n",
       "    <tr>\n",
       "      <th>3</th>\n",
       "      <td>3</td>\n",
       "      <td>What did the French man say to the attractive ...</td>\n",
       "      <td>french man say attractive teletubby oo lala</td>\n",
       "      <td>1.0</td>\n",
       "    </tr>\n",
       "    <tr>\n",
       "      <th>4</th>\n",
       "      <td>4</td>\n",
       "      <td>Yo Mama Yo momma's so fat, that when she went ...</td>\n",
       "      <td>yo mama yo momma fat went zoo hippos got jealous</td>\n",
       "      <td>1.0</td>\n",
       "    </tr>\n",
       "  </tbody>\n",
       "</table>\n",
       "</div>"
      ],
      "text/plain": [
       "  Unnamed: 0                                      original text  \\\n",
       "0          0  I am soooo glad I'm not circumcised! My corona...   \n",
       "1          1  Did you know Google now has a platform for rec...   \n",
       "2          2  What is the difference between my wife and my ...   \n",
       "3          3  What did the French man say to the attractive ...   \n",
       "4          4  Yo Mama Yo momma's so fat, that when she went ...   \n",
       "\n",
       "                                        cleaned text  joke  \n",
       "0  soooo glad circumcised corona covered foreskin...   1.0  \n",
       "1  know google platform recording bowel movements...   1.0  \n",
       "2  difference wife vacuum vacuum nt snore sex amp...   1.0  \n",
       "3        french man say attractive teletubby oo lala   1.0  \n",
       "4   yo mama yo momma fat went zoo hippos got jealous   1.0  "
      ]
     },
     "execution_count": 2,
     "metadata": {},
     "output_type": "execute_result"
    }
   ],
   "source": [
    "df = pd.read_csv(\"cleaned_data.csv\")\n",
    "df.head()"
   ]
  },
  {
   "cell_type": "code",
   "execution_count": 3,
   "id": "222e6c86",
   "metadata": {
    "ExecuteTime": {
     "end_time": "2021-11-23T02:37:52.745122Z",
     "start_time": "2021-11-23T02:37:52.722182Z"
    }
   },
   "outputs": [],
   "source": [
    "df = df.drop(columns=df.columns.values[0:2])"
   ]
  },
  {
   "cell_type": "code",
   "execution_count": 4,
   "id": "90cd545d",
   "metadata": {
    "ExecuteTime": {
     "end_time": "2021-11-23T02:37:52.991223Z",
     "start_time": "2021-11-23T02:37:52.748073Z"
    }
   },
   "outputs": [],
   "source": [
    "df = df.dropna()"
   ]
  },
  {
   "cell_type": "code",
   "execution_count": 5,
   "id": "1c214130",
   "metadata": {
    "ExecuteTime": {
     "end_time": "2021-11-23T02:37:53.172061Z",
     "start_time": "2021-11-23T02:37:52.995219Z"
    }
   },
   "outputs": [],
   "source": [
    "df_jokes = df[df['joke'] > 0]\n",
    "df_non_jokes = df[df['joke'] < 0]"
   ]
  },
  {
   "cell_type": "code",
   "execution_count": 6,
   "id": "56a34e7a",
   "metadata": {
    "ExecuteTime": {
     "end_time": "2021-11-23T02:37:53.295810Z",
     "start_time": "2021-11-23T02:37:53.184056Z"
    }
   },
   "outputs": [
    {
     "data": {
      "text/html": [
       "<div>\n",
       "<style scoped>\n",
       "    .dataframe tbody tr th:only-of-type {\n",
       "        vertical-align: middle;\n",
       "    }\n",
       "\n",
       "    .dataframe tbody tr th {\n",
       "        vertical-align: top;\n",
       "    }\n",
       "\n",
       "    .dataframe thead th {\n",
       "        text-align: right;\n",
       "    }\n",
       "</style>\n",
       "<table border=\"1\" class=\"dataframe\">\n",
       "  <thead>\n",
       "    <tr style=\"text-align: right;\">\n",
       "      <th></th>\n",
       "      <th>cleaned text</th>\n",
       "      <th>joke</th>\n",
       "    </tr>\n",
       "  </thead>\n",
       "  <tbody>\n",
       "    <tr>\n",
       "      <th>544835</th>\n",
       "      <td>walked bar saw fat bird dancing table went sai...</td>\n",
       "      <td>1.0</td>\n",
       "    </tr>\n",
       "    <tr>\n",
       "      <th>120452</th>\n",
       "      <td>band antivaxxers refuse listen cure</td>\n",
       "      <td>1.0</td>\n",
       "    </tr>\n",
       "    <tr>\n",
       "      <th>100104</th>\n",
       "      <td>call building got engaged premrs</td>\n",
       "      <td>1.0</td>\n",
       "    </tr>\n",
       "    <tr>\n",
       "      <th>501226</th>\n",
       "      <td>shit gross one best friend dad used tell us me...</td>\n",
       "      <td>1.0</td>\n",
       "    </tr>\n",
       "    <tr>\n",
       "      <th>752947</th>\n",
       "      <td>hear couple stole calendar got six months</td>\n",
       "      <td>1.0</td>\n",
       "    </tr>\n",
       "  </tbody>\n",
       "</table>\n",
       "</div>"
      ],
      "text/plain": [
       "                                             cleaned text  joke\n",
       "544835  walked bar saw fat bird dancing table went sai...   1.0\n",
       "120452                band antivaxxers refuse listen cure   1.0\n",
       "100104                   call building got engaged premrs   1.0\n",
       "501226  shit gross one best friend dad used tell us me...   1.0\n",
       "752947          hear couple stole calendar got six months   1.0"
      ]
     },
     "execution_count": 6,
     "metadata": {},
     "output_type": "execute_result"
    }
   ],
   "source": [
    "df = pd.concat([df_jokes.sample(25000, random_state=42),\n",
    "                df_non_jokes.sample(25000, random_state=42)])\n",
    "df.head()"
   ]
  },
  {
   "cell_type": "code",
   "execution_count": 7,
   "id": "382fc7bf",
   "metadata": {
    "ExecuteTime": {
     "end_time": "2021-11-23T02:37:53.309746Z",
     "start_time": "2021-11-23T02:37:53.299240Z"
    }
   },
   "outputs": [
    {
     "data": {
      "text/plain": [
       "0.0"
      ]
     },
     "execution_count": 7,
     "metadata": {},
     "output_type": "execute_result"
    }
   ],
   "source": [
    "df['joke'].sum()"
   ]
  },
  {
   "cell_type": "code",
   "execution_count": 8,
   "id": "6e6d6ee2",
   "metadata": {
    "ExecuteTime": {
     "end_time": "2021-11-23T02:37:53.319612Z",
     "start_time": "2021-11-23T02:37:53.316213Z"
    }
   },
   "outputs": [],
   "source": [
    "X = df.loc[:, 'cleaned text']\n",
    "y = df.loc[:, 'joke']"
   ]
  },
  {
   "cell_type": "markdown",
   "id": "a88f402c",
   "metadata": {},
   "source": [
    "# Split Data into Train and Test"
   ]
  },
  {
   "cell_type": "code",
   "execution_count": 9,
   "id": "8b0babe9",
   "metadata": {
    "ExecuteTime": {
     "end_time": "2021-11-23T02:37:54.744377Z",
     "start_time": "2021-11-23T02:37:53.323144Z"
    }
   },
   "outputs": [],
   "source": [
    "from sklearn.model_selection import train_test_split"
   ]
  },
  {
   "cell_type": "code",
   "execution_count": 10,
   "id": "13a789c0",
   "metadata": {
    "ExecuteTime": {
     "end_time": "2021-11-23T02:37:54.764248Z",
     "start_time": "2021-11-23T02:37:54.746398Z"
    }
   },
   "outputs": [],
   "source": [
    "X_train, X_test, y_train, y_test = train_test_split(\n",
    "    X, y, train_size=0.8, random_state=42)"
   ]
  },
  {
   "cell_type": "code",
   "execution_count": 11,
   "id": "0f6220a1",
   "metadata": {
    "ExecuteTime": {
     "end_time": "2021-11-23T02:37:54.780198Z",
     "start_time": "2021-11-23T02:37:54.769425Z"
    },
    "scrolled": true
   },
   "outputs": [
    {
     "name": "stdout",
     "output_type": "stream",
     "text": [
      "40000 40000\n",
      "10000 10000\n"
     ]
    }
   ],
   "source": [
    "print(len(X_train), len(y_train))\n",
    "print(len(X_test), len(y_test))"
   ]
  },
  {
   "cell_type": "code",
   "execution_count": 12,
   "id": "38997196",
   "metadata": {
    "ExecuteTime": {
     "end_time": "2021-11-23T02:37:54.804469Z",
     "start_time": "2021-11-23T02:37:54.788887Z"
    }
   },
   "outputs": [
    {
     "data": {
      "text/plain": [
       "821108    apple google two brands world valued billion a...\n",
       "102979    man feel embarrassed twice life first time get...\n",
       "604087       wish rant sub eligible make front page deleted\n",
       "425613    people always told make little things count de...\n",
       "800317    official says us citizen detained north korea ...\n",
       "Name: cleaned text, dtype: object"
      ]
     },
     "execution_count": 12,
     "metadata": {},
     "output_type": "execute_result"
    }
   ],
   "source": [
    "X_test[:5]"
   ]
  },
  {
   "cell_type": "code",
   "execution_count": 13,
   "id": "7a442606",
   "metadata": {
    "ExecuteTime": {
     "end_time": "2021-11-23T02:37:54.825840Z",
     "start_time": "2021-11-23T02:37:54.812332Z"
    }
   },
   "outputs": [
    {
     "data": {
      "text/plain": [
       "821108   -1.0\n",
       "102979    1.0\n",
       "604087    1.0\n",
       "425613    1.0\n",
       "800317   -1.0\n",
       "Name: joke, dtype: float64"
      ]
     },
     "execution_count": 13,
     "metadata": {},
     "output_type": "execute_result"
    }
   ],
   "source": [
    "y_test[:5]"
   ]
  },
  {
   "cell_type": "markdown",
   "id": "4ffec9d5",
   "metadata": {},
   "source": [
    "# Tfidf Vectorization"
   ]
  },
  {
   "cell_type": "code",
   "execution_count": 14,
   "id": "075247fa",
   "metadata": {
    "ExecuteTime": {
     "end_time": "2021-11-23T02:37:54.854707Z",
     "start_time": "2021-11-23T02:37:54.833074Z"
    }
   },
   "outputs": [],
   "source": [
    "from sklearn.feature_extraction.text import TfidfVectorizer"
   ]
  },
  {
   "cell_type": "code",
   "execution_count": 15,
   "id": "355c7a38",
   "metadata": {
    "ExecuteTime": {
     "end_time": "2021-11-23T02:37:54.859887Z",
     "start_time": "2021-11-23T02:37:54.856869Z"
    }
   },
   "outputs": [],
   "source": [
    "tfidf = TfidfVectorizer(ngram_range=(1, 2))"
   ]
  },
  {
   "cell_type": "code",
   "execution_count": 17,
   "id": "071eaa34",
   "metadata": {
    "ExecuteTime": {
     "end_time": "2021-11-23T02:39:04.876560Z",
     "start_time": "2021-11-23T02:38:57.216276Z"
    }
   },
   "outputs": [],
   "source": [
    "X_train_tfidf = tfidf.fit_transform(X_train)"
   ]
  },
  {
   "cell_type": "markdown",
   "id": "f569adca",
   "metadata": {},
   "source": [
    "# Dimensionality Reduction"
   ]
  },
  {
   "cell_type": "code",
   "execution_count": 18,
   "id": "cf2ff5e6",
   "metadata": {
    "ExecuteTime": {
     "end_time": "2021-11-23T02:39:05.251588Z",
     "start_time": "2021-11-23T02:39:05.144829Z"
    }
   },
   "outputs": [],
   "source": [
    "from sklearn.decomposition import TruncatedSVD"
   ]
  },
  {
   "cell_type": "markdown",
   "id": "0b024fb6",
   "metadata": {},
   "source": [
    "## SVD 200"
   ]
  },
  {
   "cell_type": "code",
   "execution_count": 19,
   "id": "241a9d1b",
   "metadata": {
    "ExecuteTime": {
     "end_time": "2021-11-23T02:39:05.447088Z",
     "start_time": "2021-11-23T02:39:05.443753Z"
    }
   },
   "outputs": [],
   "source": [
    "svd_200 = TruncatedSVD(n_components=200)"
   ]
  },
  {
   "cell_type": "code",
   "execution_count": 20,
   "id": "5b693997",
   "metadata": {
    "ExecuteTime": {
     "end_time": "2021-11-23T02:40:51.565348Z",
     "start_time": "2021-11-23T02:39:05.627472Z"
    }
   },
   "outputs": [],
   "source": [
    "X_train_tfidf_svd_200 = svd_200.fit_transform(X_train_tfidf)"
   ]
  },
  {
   "cell_type": "code",
   "execution_count": 21,
   "id": "53aee888",
   "metadata": {
    "ExecuteTime": {
     "end_time": "2021-11-23T02:40:51.862526Z",
     "start_time": "2021-11-23T02:40:51.859528Z"
    }
   },
   "outputs": [],
   "source": [
    "# This function preprocesses the test data using the tfidf\n",
    "# and svd models that were already fit to the training data\n",
    "def preprocess_test(tfidf, svd, X_test):\n",
    "    X_test_tfidf = tfidf.transform(X_test)\n",
    "    X_test_tfidf_svd = svd.transform(X_test_tfidf)\n",
    "    return X_test_tfidf_svd"
   ]
  },
  {
   "cell_type": "code",
   "execution_count": 22,
   "id": "aeddce6f",
   "metadata": {
    "ExecuteTime": {
     "end_time": "2021-11-23T02:40:54.428824Z",
     "start_time": "2021-11-23T02:40:52.019936Z"
    }
   },
   "outputs": [],
   "source": [
    "X_test_tfidf_svd_200 = preprocess_test(tfidf, svd_200, X_test)"
   ]
  },
  {
   "cell_type": "code",
   "execution_count": 23,
   "id": "d0d30ed5",
   "metadata": {
    "ExecuteTime": {
     "end_time": "2021-11-23T02:40:54.740772Z",
     "start_time": "2021-11-23T02:40:54.736771Z"
    }
   },
   "outputs": [
    {
     "name": "stdout",
     "output_type": "stream",
     "text": [
      "(40000, 200)\n",
      "(10000, 200)\n"
     ]
    }
   ],
   "source": [
    "print(X_train_tfidf_svd_200.shape)\n",
    "print(X_test_tfidf_svd_200.shape)"
   ]
  },
  {
   "cell_type": "code",
   "execution_count": 27,
   "id": "06ea812e",
   "metadata": {
    "ExecuteTime": {
     "end_time": "2021-11-23T02:44:42.030384Z",
     "start_time": "2021-11-23T02:44:30.003476Z"
    }
   },
   "outputs": [],
   "source": [
    "np.savetxt('data/svd-200-train.csv', X_train_tfidf_svd_200, delimiter=',')"
   ]
  },
  {
   "cell_type": "code",
   "execution_count": 28,
   "id": "b74c5a6a",
   "metadata": {
    "ExecuteTime": {
     "end_time": "2021-11-23T02:45:51.400722Z",
     "start_time": "2021-11-23T02:45:48.080823Z"
    }
   },
   "outputs": [],
   "source": [
    "np.savetxt('data/svd-200-test.csv', X_test_tfidf_svd_200, delimiter=',')"
   ]
  },
  {
   "cell_type": "markdown",
   "id": "0a819e94",
   "metadata": {},
   "source": [
    "Train and test labels are the same for svd_200 and svd_500 datasets. This only saves it once."
   ]
  },
  {
   "cell_type": "code",
   "execution_count": 31,
   "id": "47d43898",
   "metadata": {
    "ExecuteTime": {
     "end_time": "2021-11-23T02:47:32.452924Z",
     "start_time": "2021-11-23T02:47:32.306749Z"
    }
   },
   "outputs": [],
   "source": [
    "np.savetxt('data/svd-train-labels.csv',y_train,delimiter=',')\n",
    "np.savetxt('data/svd-test-labels.csv',y_test,delimiter=',')"
   ]
  },
  {
   "cell_type": "markdown",
   "id": "2492f987",
   "metadata": {},
   "source": [
    "## SVD 500"
   ]
  },
  {
   "cell_type": "code",
   "execution_count": 32,
   "id": "3309478b",
   "metadata": {
    "ExecuteTime": {
     "end_time": "2021-11-23T02:47:42.198499Z",
     "start_time": "2021-11-23T02:47:42.194461Z"
    }
   },
   "outputs": [],
   "source": [
    "svd_500 = TruncatedSVD(n_components=500)"
   ]
  },
  {
   "cell_type": "code",
   "execution_count": 33,
   "id": "8674f855",
   "metadata": {
    "ExecuteTime": {
     "end_time": "2021-11-23T02:52:28.948609Z",
     "start_time": "2021-11-23T02:47:42.435342Z"
    }
   },
   "outputs": [],
   "source": [
    "X_train_tfidf_svd_500 = svd_500.fit_transform(X_train_tfidf)"
   ]
  },
  {
   "cell_type": "code",
   "execution_count": 34,
   "id": "54ae08d9",
   "metadata": {
    "ExecuteTime": {
     "end_time": "2021-11-23T02:52:33.640771Z",
     "start_time": "2021-11-23T02:52:29.231537Z"
    }
   },
   "outputs": [],
   "source": [
    "X_test_tfidf_svd_500 = preprocess_test(tfidf, svd_500, X_test)"
   ]
  },
  {
   "cell_type": "code",
   "execution_count": 35,
   "id": "54852fb1",
   "metadata": {
    "ExecuteTime": {
     "end_time": "2021-11-23T02:53:12.733271Z",
     "start_time": "2021-11-23T02:52:33.959447Z"
    }
   },
   "outputs": [],
   "source": [
    "np.savetxt('data/svd-500-train.csv', X_train_tfidf_svd_500, delimiter=',')\n",
    "np.savetxt('data/svd-500-test.csv', X_test_tfidf_svd_500, delimiter=',')"
   ]
  }
 ],
 "metadata": {
  "hide_input": false,
  "kernelspec": {
   "display_name": "Python [conda env:tf] *",
   "language": "python",
   "name": "conda-env-tf-py"
  },
  "language_info": {
   "codemirror_mode": {
    "name": "ipython",
    "version": 3
   },
   "file_extension": ".py",
   "mimetype": "text/x-python",
   "name": "python",
   "nbconvert_exporter": "python",
   "pygments_lexer": "ipython3",
   "version": "3.8.11"
  },
  "toc": {
   "base_numbering": 1,
   "nav_menu": {},
   "number_sections": true,
   "sideBar": true,
   "skip_h1_title": false,
   "title_cell": "Table of Contents",
   "title_sidebar": "Contents",
   "toc_cell": false,
   "toc_position": {},
   "toc_section_display": true,
   "toc_window_display": false
  },
  "varInspector": {
   "cols": {
    "lenName": 16,
    "lenType": 16,
    "lenVar": 40
   },
   "kernels_config": {
    "python": {
     "delete_cmd_postfix": "",
     "delete_cmd_prefix": "del ",
     "library": "var_list.py",
     "varRefreshCmd": "print(var_dic_list())"
    },
    "r": {
     "delete_cmd_postfix": ") ",
     "delete_cmd_prefix": "rm(",
     "library": "var_list.r",
     "varRefreshCmd": "cat(var_dic_list()) "
    }
   },
   "types_to_exclude": [
    "module",
    "function",
    "builtin_function_or_method",
    "instance",
    "_Feature"
   ],
   "window_display": false
  }
 },
 "nbformat": 4,
 "nbformat_minor": 5
}
