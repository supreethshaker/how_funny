{
 "cells": [
  {
   "cell_type": "code",
   "execution_count": 1,
   "id": "c9725da4",
   "metadata": {
    "ExecuteTime": {
     "end_time": "2021-11-18T23:42:39.250127Z",
     "start_time": "2021-11-18T23:42:38.872392Z"
    }
   },
   "outputs": [],
   "source": [
    "import pandas as pd\n",
    "import numpy as np"
   ]
  },
  {
   "cell_type": "code",
   "execution_count": 93,
   "id": "20502387",
   "metadata": {
    "ExecuteTime": {
     "end_time": "2021-11-19T00:28:49.844073Z",
     "start_time": "2021-11-19T00:28:46.016776Z"
    }
   },
   "outputs": [
    {
     "name": "stderr",
     "output_type": "stream",
     "text": [
      "/opt/anaconda3/envs/tf/lib/python3.8/site-packages/IPython/core/interactiveshell.py:3441: DtypeWarning: Columns (0) have mixed types.Specify dtype option on import or set low_memory=False.\n",
      "  exec(code_obj, self.user_global_ns, self.user_ns)\n"
     ]
    },
    {
     "data": {
      "text/html": [
       "<div>\n",
       "<style scoped>\n",
       "    .dataframe tbody tr th:only-of-type {\n",
       "        vertical-align: middle;\n",
       "    }\n",
       "\n",
       "    .dataframe tbody tr th {\n",
       "        vertical-align: top;\n",
       "    }\n",
       "\n",
       "    .dataframe thead th {\n",
       "        text-align: right;\n",
       "    }\n",
       "</style>\n",
       "<table border=\"1\" class=\"dataframe\">\n",
       "  <thead>\n",
       "    <tr style=\"text-align: right;\">\n",
       "      <th></th>\n",
       "      <th>Unnamed: 0</th>\n",
       "      <th>original text</th>\n",
       "      <th>cleaned text</th>\n",
       "      <th>joke</th>\n",
       "    </tr>\n",
       "  </thead>\n",
       "  <tbody>\n",
       "    <tr>\n",
       "      <th>0</th>\n",
       "      <td>0</td>\n",
       "      <td>I am soooo glad I'm not circumcised! My corona...</td>\n",
       "      <td>soooo glad circumcised corona covered foreskin...</td>\n",
       "      <td>1.0</td>\n",
       "    </tr>\n",
       "    <tr>\n",
       "      <th>1</th>\n",
       "      <td>1</td>\n",
       "      <td>Did you know Google now has a platform for rec...</td>\n",
       "      <td>know google platform recording bowel movements...</td>\n",
       "      <td>1.0</td>\n",
       "    </tr>\n",
       "    <tr>\n",
       "      <th>2</th>\n",
       "      <td>2</td>\n",
       "      <td>What is the difference between my wife and my ...</td>\n",
       "      <td>difference wife vacuum vacuum nt snore sex amp...</td>\n",
       "      <td>1.0</td>\n",
       "    </tr>\n",
       "    <tr>\n",
       "      <th>3</th>\n",
       "      <td>3</td>\n",
       "      <td>What did the French man say to the attractive ...</td>\n",
       "      <td>french man say attractive teletubby oo lala</td>\n",
       "      <td>1.0</td>\n",
       "    </tr>\n",
       "    <tr>\n",
       "      <th>4</th>\n",
       "      <td>4</td>\n",
       "      <td>Yo Mama Yo momma's so fat, that when she went ...</td>\n",
       "      <td>yo mama yo momma fat went zoo hippos got jealous</td>\n",
       "      <td>1.0</td>\n",
       "    </tr>\n",
       "  </tbody>\n",
       "</table>\n",
       "</div>"
      ],
      "text/plain": [
       "  Unnamed: 0                                      original text  \\\n",
       "0          0  I am soooo glad I'm not circumcised! My corona...   \n",
       "1          1  Did you know Google now has a platform for rec...   \n",
       "2          2  What is the difference between my wife and my ...   \n",
       "3          3  What did the French man say to the attractive ...   \n",
       "4          4  Yo Mama Yo momma's so fat, that when she went ...   \n",
       "\n",
       "                                        cleaned text  joke  \n",
       "0  soooo glad circumcised corona covered foreskin...   1.0  \n",
       "1  know google platform recording bowel movements...   1.0  \n",
       "2  difference wife vacuum vacuum nt snore sex amp...   1.0  \n",
       "3        french man say attractive teletubby oo lala   1.0  \n",
       "4   yo mama yo momma fat went zoo hippos got jealous   1.0  "
      ]
     },
     "execution_count": 93,
     "metadata": {},
     "output_type": "execute_result"
    }
   ],
   "source": [
    "df = pd.read_csv(\"cleaned_data.csv\")\n",
    "df.head()"
   ]
  },
  {
   "cell_type": "code",
   "execution_count": 94,
   "id": "222e6c86",
   "metadata": {
    "ExecuteTime": {
     "end_time": "2021-11-19T00:28:49.961846Z",
     "start_time": "2021-11-19T00:28:49.944670Z"
    }
   },
   "outputs": [],
   "source": [
    "df = df.drop(columns=df.columns.values[0:2])"
   ]
  },
  {
   "cell_type": "code",
   "execution_count": 95,
   "id": "90cd545d",
   "metadata": {
    "ExecuteTime": {
     "end_time": "2021-11-19T00:28:50.153021Z",
     "start_time": "2021-11-19T00:28:50.046837Z"
    }
   },
   "outputs": [],
   "source": [
    "df = df.dropna()"
   ]
  },
  {
   "cell_type": "code",
   "execution_count": 97,
   "id": "1c214130",
   "metadata": {
    "ExecuteTime": {
     "end_time": "2021-11-19T00:29:10.481943Z",
     "start_time": "2021-11-19T00:29:10.430491Z"
    }
   },
   "outputs": [],
   "source": [
    "df_jokes = df[df['joke']>0]\n",
    "df_non_jokes = df[df['joke']<0]"
   ]
  },
  {
   "cell_type": "code",
   "execution_count": 102,
   "id": "56a34e7a",
   "metadata": {
    "ExecuteTime": {
     "end_time": "2021-11-19T00:30:14.045014Z",
     "start_time": "2021-11-19T00:30:13.996260Z"
    }
   },
   "outputs": [
    {
     "data": {
      "text/html": [
       "<div>\n",
       "<style scoped>\n",
       "    .dataframe tbody tr th:only-of-type {\n",
       "        vertical-align: middle;\n",
       "    }\n",
       "\n",
       "    .dataframe tbody tr th {\n",
       "        vertical-align: top;\n",
       "    }\n",
       "\n",
       "    .dataframe thead th {\n",
       "        text-align: right;\n",
       "    }\n",
       "</style>\n",
       "<table border=\"1\" class=\"dataframe\">\n",
       "  <thead>\n",
       "    <tr style=\"text-align: right;\">\n",
       "      <th></th>\n",
       "      <th>cleaned text</th>\n",
       "      <th>joke</th>\n",
       "    </tr>\n",
       "  </thead>\n",
       "  <tbody>\n",
       "    <tr>\n",
       "      <th>348792</th>\n",
       "      <td>like cheesy chocolate deleted</td>\n",
       "      <td>1.0</td>\n",
       "    </tr>\n",
       "    <tr>\n",
       "      <th>55281</th>\n",
       "      <td>chemistry teacher babbles yada yada chemical f...</td>\n",
       "      <td>1.0</td>\n",
       "    </tr>\n",
       "    <tr>\n",
       "      <th>376387</th>\n",
       "      <td>nt like trump say years go</td>\n",
       "      <td>1.0</td>\n",
       "    </tr>\n",
       "    <tr>\n",
       "      <th>244488</th>\n",
       "      <td>old man young man watching play young man issu...</td>\n",
       "      <td>1.0</td>\n",
       "    </tr>\n",
       "    <tr>\n",
       "      <th>409258</th>\n",
       "      <td>yoga instructor tell landlord tried evict namaste</td>\n",
       "      <td>1.0</td>\n",
       "    </tr>\n",
       "  </tbody>\n",
       "</table>\n",
       "</div>"
      ],
      "text/plain": [
       "                                             cleaned text  joke\n",
       "348792                      like cheesy chocolate deleted   1.0\n",
       "55281   chemistry teacher babbles yada yada chemical f...   1.0\n",
       "376387                         nt like trump say years go   1.0\n",
       "244488  old man young man watching play young man issu...   1.0\n",
       "409258  yoga instructor tell landlord tried evict namaste   1.0"
      ]
     },
     "execution_count": 102,
     "metadata": {},
     "output_type": "execute_result"
    }
   ],
   "source": [
    "df = pd.concat([df_jokes.sample(25000),\n",
    "                df_non_jokes.sample(25000)])\n",
    "df.head()"
   ]
  },
  {
   "cell_type": "code",
   "execution_count": 103,
   "id": "382fc7bf",
   "metadata": {
    "ExecuteTime": {
     "end_time": "2021-11-19T00:30:22.100583Z",
     "start_time": "2021-11-19T00:30:22.096056Z"
    }
   },
   "outputs": [
    {
     "data": {
      "text/plain": [
       "0.0"
      ]
     },
     "execution_count": 103,
     "metadata": {},
     "output_type": "execute_result"
    }
   ],
   "source": [
    "df['joke'].sum()"
   ]
  },
  {
   "cell_type": "code",
   "execution_count": 104,
   "id": "6e6d6ee2",
   "metadata": {
    "ExecuteTime": {
     "end_time": "2021-11-19T00:30:22.975940Z",
     "start_time": "2021-11-19T00:30:22.973475Z"
    }
   },
   "outputs": [],
   "source": [
    "X = df.loc[:,'cleaned text']\n",
    "y = df.loc[:,'joke']"
   ]
  },
  {
   "cell_type": "markdown",
   "id": "a88f402c",
   "metadata": {},
   "source": [
    "# Split Data into Train and Test"
   ]
  },
  {
   "cell_type": "code",
   "execution_count": 105,
   "id": "8b0babe9",
   "metadata": {
    "ExecuteTime": {
     "end_time": "2021-11-19T00:30:25.563306Z",
     "start_time": "2021-11-19T00:30:25.560658Z"
    }
   },
   "outputs": [],
   "source": [
    "from sklearn.model_selection import train_test_split"
   ]
  },
  {
   "cell_type": "code",
   "execution_count": 106,
   "id": "13a789c0",
   "metadata": {
    "ExecuteTime": {
     "end_time": "2021-11-19T00:30:26.063887Z",
     "start_time": "2021-11-19T00:30:26.055828Z"
    }
   },
   "outputs": [],
   "source": [
    "X_train, X_test, y_train, y_test = train_test_split(X, y, train_size=0.8)"
   ]
  },
  {
   "cell_type": "code",
   "execution_count": 107,
   "id": "0f6220a1",
   "metadata": {
    "ExecuteTime": {
     "end_time": "2021-11-19T00:30:26.238048Z",
     "start_time": "2021-11-19T00:30:26.235102Z"
    },
    "scrolled": true
   },
   "outputs": [
    {
     "name": "stdout",
     "output_type": "stream",
     "text": [
      "40000 40000\n",
      "10000 10000\n"
     ]
    }
   ],
   "source": [
    "print(len(X_train), len(y_train))\n",
    "print(len(X_test), len(y_test))"
   ]
  },
  {
   "cell_type": "code",
   "execution_count": 108,
   "id": "38997196",
   "metadata": {
    "ExecuteTime": {
     "end_time": "2021-11-19T00:30:26.418637Z",
     "start_time": "2021-11-19T00:30:26.414727Z"
    }
   },
   "outputs": [
    {
     "data": {
      "text/plain": [
       "699447                 momma fat uses panorama mode selfies\n",
       "341073     swordfish always win arguments always good point\n",
       "686672    hear saudi millionaire rapist got found guilty...\n",
       "959426    kimberly moumblow accused leaving two special ...\n",
       "852907    queen elizabeth ii due visit croke park meets ...\n",
       "Name: cleaned text, dtype: object"
      ]
     },
     "execution_count": 108,
     "metadata": {},
     "output_type": "execute_result"
    }
   ],
   "source": [
    "X_test[:5]"
   ]
  },
  {
   "cell_type": "code",
   "execution_count": 109,
   "id": "7a442606",
   "metadata": {
    "ExecuteTime": {
     "end_time": "2021-11-19T00:30:26.599371Z",
     "start_time": "2021-11-19T00:30:26.595277Z"
    }
   },
   "outputs": [
    {
     "data": {
      "text/plain": [
       "699447    1.0\n",
       "341073    1.0\n",
       "686672    1.0\n",
       "959426   -1.0\n",
       "852907   -1.0\n",
       "Name: joke, dtype: float64"
      ]
     },
     "execution_count": 109,
     "metadata": {},
     "output_type": "execute_result"
    }
   ],
   "source": [
    "y_test[:5]"
   ]
  },
  {
   "cell_type": "markdown",
   "id": "4ffec9d5",
   "metadata": {},
   "source": [
    "# Tfidf Vectorization"
   ]
  },
  {
   "cell_type": "code",
   "execution_count": 110,
   "id": "075247fa",
   "metadata": {
    "ExecuteTime": {
     "end_time": "2021-11-19T00:30:26.776158Z",
     "start_time": "2021-11-19T00:30:26.774312Z"
    }
   },
   "outputs": [],
   "source": [
    "from sklearn.feature_extraction.text import TfidfVectorizer"
   ]
  },
  {
   "cell_type": "code",
   "execution_count": 111,
   "id": "355c7a38",
   "metadata": {
    "ExecuteTime": {
     "end_time": "2021-11-19T00:30:26.933823Z",
     "start_time": "2021-11-19T00:30:26.931852Z"
    }
   },
   "outputs": [],
   "source": [
    "tfidf = TfidfVectorizer(ngram_range=(1,3))"
   ]
  },
  {
   "cell_type": "code",
   "execution_count": 112,
   "id": "071eaa34",
   "metadata": {
    "ExecuteTime": {
     "end_time": "2021-11-19T00:30:33.986790Z",
     "start_time": "2021-11-19T00:30:27.112371Z"
    }
   },
   "outputs": [],
   "source": [
    "X_train_tfidf = tfidf.fit_transform(X_train)"
   ]
  },
  {
   "cell_type": "markdown",
   "id": "f569adca",
   "metadata": {},
   "source": [
    "# Dimensionality Reduction"
   ]
  },
  {
   "cell_type": "code",
   "execution_count": 113,
   "id": "cf2ff5e6",
   "metadata": {
    "ExecuteTime": {
     "end_time": "2021-11-19T00:30:34.085212Z",
     "start_time": "2021-11-19T00:30:34.083277Z"
    }
   },
   "outputs": [],
   "source": [
    "from sklearn.decomposition import TruncatedSVD"
   ]
  },
  {
   "cell_type": "code",
   "execution_count": 114,
   "id": "241a9d1b",
   "metadata": {
    "ExecuteTime": {
     "end_time": "2021-11-19T00:30:34.184845Z",
     "start_time": "2021-11-19T00:30:34.182424Z"
    }
   },
   "outputs": [],
   "source": [
    "svd = TruncatedSVD(n_components=200)"
   ]
  },
  {
   "cell_type": "code",
   "execution_count": 115,
   "id": "5b693997",
   "metadata": {
    "ExecuteTime": {
     "end_time": "2021-11-19T00:32:17.262395Z",
     "start_time": "2021-11-19T00:30:34.280228Z"
    }
   },
   "outputs": [],
   "source": [
    "X_train_tfidf_svd = svd.fit_transform(X_train_tfidf)"
   ]
  },
  {
   "cell_type": "code",
   "execution_count": 116,
   "id": "53aee888",
   "metadata": {
    "ExecuteTime": {
     "end_time": "2021-11-19T00:32:17.367382Z",
     "start_time": "2021-11-19T00:32:17.365143Z"
    }
   },
   "outputs": [],
   "source": [
    "# This function preprocesses the test data using the tfidf\n",
    "# and svd models that were already fit to the training data\n",
    "def preprocess_test(tfidf, svd, X_test):\n",
    "    X_test_tfidf = tfidf.transform(X_test)\n",
    "    X_test_tfidf_svd = svd.transform(X_test_tfidf)\n",
    "    return X_test_tfidf_svd"
   ]
  },
  {
   "cell_type": "code",
   "execution_count": 117,
   "id": "aeddce6f",
   "metadata": {
    "ExecuteTime": {
     "end_time": "2021-11-19T00:32:19.257990Z",
     "start_time": "2021-11-19T00:32:17.467034Z"
    }
   },
   "outputs": [],
   "source": [
    "X_test_tfidf_svd = preprocess_test(tfidf, svd, X_test)"
   ]
  },
  {
   "cell_type": "markdown",
   "id": "c90abfac",
   "metadata": {},
   "source": [
    "# Models"
   ]
  },
  {
   "cell_type": "code",
   "execution_count": 118,
   "id": "e84eeecd",
   "metadata": {
    "ExecuteTime": {
     "end_time": "2021-11-19T00:32:19.365623Z",
     "start_time": "2021-11-19T00:32:19.363678Z"
    }
   },
   "outputs": [],
   "source": [
    "from sklearn.model_selection import GridSearchCV"
   ]
  },
  {
   "cell_type": "code",
   "execution_count": 119,
   "id": "10eca409",
   "metadata": {
    "ExecuteTime": {
     "end_time": "2021-11-19T00:32:19.466970Z",
     "start_time": "2021-11-19T00:32:19.464389Z"
    }
   },
   "outputs": [],
   "source": [
    "from sklearn.neighbors import KNeighborsClassifier\n",
    "\n",
    "knn = KNeighborsClassifier()\n",
    "\n",
    "model = GridSearchCV(knn,\n",
    "                     param_grid={'n_neighbors' : [3,5,7,11]},\n",
    "                     scoring='f1',\n",
    "                     cv=3,\n",
    "                     verbose=4\n",
    "                    )"
   ]
  },
  {
   "cell_type": "code",
   "execution_count": 120,
   "id": "1eb55aae",
   "metadata": {
    "ExecuteTime": {
     "end_time": "2021-11-19T00:33:30.071017Z",
     "start_time": "2021-11-19T00:32:19.566481Z"
    },
    "scrolled": true
   },
   "outputs": [
    {
     "name": "stdout",
     "output_type": "stream",
     "text": [
      "Fitting 3 folds for each of 4 candidates, totalling 12 fits\n",
      "[CV 1/3] END .....................n_neighbors=3;, score=0.885 total time=   4.4s\n",
      "[CV 2/3] END .....................n_neighbors=3;, score=0.889 total time=   4.5s\n",
      "[CV 3/3] END .....................n_neighbors=3;, score=0.884 total time=   4.4s\n",
      "[CV 1/3] END .....................n_neighbors=5;, score=0.889 total time=   6.6s\n",
      "[CV 2/3] END .....................n_neighbors=5;, score=0.892 total time=   5.9s\n",
      "[CV 3/3] END .....................n_neighbors=5;, score=0.887 total time=   6.7s\n",
      "[CV 1/3] END .....................n_neighbors=7;, score=0.893 total time=   6.6s\n",
      "[CV 2/3] END .....................n_neighbors=7;, score=0.891 total time=   5.8s\n",
      "[CV 3/3] END .....................n_neighbors=7;, score=0.887 total time=   6.5s\n",
      "[CV 1/3] END ....................n_neighbors=11;, score=0.889 total time=   6.6s\n",
      "[CV 2/3] END ....................n_neighbors=11;, score=0.890 total time=   5.8s\n",
      "[CV 3/3] END ....................n_neighbors=11;, score=0.884 total time=   6.5s\n"
     ]
    },
    {
     "data": {
      "text/plain": [
       "GridSearchCV(cv=3, estimator=KNeighborsClassifier(),\n",
       "             param_grid={'n_neighbors': [3, 5, 7, 11]}, scoring='f1',\n",
       "             verbose=4)"
      ]
     },
     "execution_count": 120,
     "metadata": {},
     "output_type": "execute_result"
    }
   ],
   "source": [
    "model.fit(X_train_tfidf_svd, y_train)"
   ]
  },
  {
   "cell_type": "code",
   "execution_count": 126,
   "id": "94a25506",
   "metadata": {
    "ExecuteTime": {
     "end_time": "2021-11-19T00:36:06.713825Z",
     "start_time": "2021-11-19T00:36:06.710219Z"
    }
   },
   "outputs": [
    {
     "data": {
      "text/plain": [
       "{'n_neighbors': 7}"
      ]
     },
     "execution_count": 126,
     "metadata": {},
     "output_type": "execute_result"
    }
   ],
   "source": [
    "model.best_params_"
   ]
  },
  {
   "cell_type": "markdown",
   "id": "8e420eed",
   "metadata": {},
   "source": [
    "# Model Performance"
   ]
  },
  {
   "cell_type": "code",
   "execution_count": 121,
   "id": "52a9a719",
   "metadata": {
    "ExecuteTime": {
     "end_time": "2021-11-19T00:33:30.176543Z",
     "start_time": "2021-11-19T00:33:30.172474Z"
    }
   },
   "outputs": [],
   "source": [
    "from sklearn.metrics import accuracy_score, f1_score, precision_score, recall_score\n",
    "from sklearn.metrics import confusion_matrix\n",
    "import seaborn as sns\n",
    "import matplotlib.pyplot as plt\n",
    "\n",
    "def evaluate_model(model, X, y):\n",
    "    pred = model.predict(X)\n",
    "    \n",
    "    acc = accuracy_score(y, pred)\n",
    "    f1 = f1_score(y, pred)\n",
    "    precision = precision_score(y, pred)\n",
    "    recall = recall_score(y, pred)\n",
    "    \n",
    "    cm = confusion_matrix(y, pred)\n",
    "    sns.heatmap(cm, cmap='Blues', annot=True, fmt='g')\n",
    "    plt.title(\"True Labels vs Predicted Labels\")\n",
    "    \n",
    "    print(\"Accuracy:  %.4f\" % (acc))\n",
    "    print(\"F1-Score:  %.4f\" % (f1))\n",
    "    print(\"Precision: %.4f\" % (precision))\n",
    "    print(\"Recall:    %.4f\" % (recall))\n",
    "    \n",
    "    return acc, f1, precision, recall"
   ]
  },
  {
   "cell_type": "code",
   "execution_count": 122,
   "id": "e59d27e6",
   "metadata": {
    "ExecuteTime": {
     "end_time": "2021-11-19T00:33:36.857522Z",
     "start_time": "2021-11-19T00:33:30.276151Z"
    }
   },
   "outputs": [
    {
     "name": "stdout",
     "output_type": "stream",
     "text": [
      "Accuracy:  0.8932\n",
      "F1-Score:  0.8967\n",
      "Precision: 0.8679\n",
      "Recall:    0.9276\n"
     ]
    },
    {
     "data": {
      "text/plain": [
       "(0.8932, 0.8967317733513827, 0.8678644956017219, 0.9275855171034206)"
      ]
     },
     "execution_count": 122,
     "metadata": {},
     "output_type": "execute_result"
    },
    {
     "data": {
      "image/png": "[encoded data removed]",
      "text/plain": [
       "<Figure size 432x288 with 2 Axes>"
      ]
     },
     "metadata": {
      "needs_background": "light"
     },
     "output_type": "display_data"
    }
   ],
   "source": [
    "evaluate_model(model, X_test_tfidf_svd, y_test)"
   ]
  },
  {
   "cell_type": "code",
   "execution_count": 123,
   "id": "3b70182f",
   "metadata": {
    "ExecuteTime": {
     "end_time": "2021-11-19T00:33:36.963809Z",
     "start_time": "2021-11-19T00:33:36.960915Z"
    }
   },
   "outputs": [],
   "source": [
    "def test_joke(joke, model, tfidf, svd):\n",
    "    arr = [joke]\n",
    "    test_df = np.array(arr)\n",
    "    test_df_preprocessed = preprocess_test(tfidf, svd, test_df)\n",
    "    pred = model.predict(test_df_preprocessed)\n",
    "    if(pred[0] > 0):\n",
    "        print(\"You are funny!\")\n",
    "    else:\n",
    "        print(\"Not a joke.\")\n",
    "    return pred[0]"
   ]
  },
  {
   "cell_type": "markdown",
   "id": "1d3a74cf",
   "metadata": {},
   "source": [
    "# Examples"
   ]
  },
  {
   "cell_type": "code",
   "execution_count": 124,
   "id": "f026517b",
   "metadata": {
    "ExecuteTime": {
     "end_time": "2021-11-19T00:33:38.266899Z",
     "start_time": "2021-11-19T00:33:37.069182Z"
    }
   },
   "outputs": [
    {
     "name": "stdout",
     "output_type": "stream",
     "text": [
      "Not a joke.\n"
     ]
    },
    {
     "data": {
      "text/plain": [
       "-1.0"
      ]
     },
     "execution_count": 124,
     "metadata": {},
     "output_type": "execute_result"
    }
   ],
   "source": [
    "test_joke(\"You were injured in a car crash resulting in multiple injuries\", model, tfidf, svd)"
   ]
  },
  {
   "cell_type": "code",
   "execution_count": 125,
   "id": "ff1ce4cb",
   "metadata": {
    "ExecuteTime": {
     "end_time": "2021-11-19T00:33:39.711193Z",
     "start_time": "2021-11-19T00:33:38.596436Z"
    }
   },
   "outputs": [
    {
     "name": "stdout",
     "output_type": "stream",
     "text": [
      "You are funny!\n"
     ]
    },
    {
     "data": {
      "text/plain": [
       "1.0"
      ]
     },
     "execution_count": 125,
     "metadata": {},
     "output_type": "execute_result"
    }
   ],
   "source": [
    "test_joke(\"You are thicker than a bowl of oatmeal\", model, tfidf, svd)"
   ]
  }
 ],
 "metadata": {
  "hide_input": false,
  "kernelspec": {
   "display_name": "Python [conda env:tf] *",
   "language": "python",
   "name": "conda-env-tf-py"
  },
  "language_info": {
   "codemirror_mode": {
    "name": "ipython",
    "version": 3
   },
   "file_extension": ".py",
   "mimetype": "text/x-python",
   "name": "python",
   "nbconvert_exporter": "python",
   "pygments_lexer": "ipython3",
   "version": "3.8.11"
  },
  "toc": {
   "base_numbering": 1,
   "nav_menu": {},
   "number_sections": true,
   "sideBar": true,
   "skip_h1_title": false,
   "title_cell": "Table of Contents",
   "title_sidebar": "Contents",
   "toc_cell": false,
   "toc_position": {},
   "toc_section_display": true,
   "toc_window_display": false
  },
  "varInspector": {
   "cols": {
    "lenName": 16,
    "lenType": 16,
    "lenVar": 40
   },
   "kernels_config": {
    "python": {
     "delete_cmd_postfix": "",
     "delete_cmd_prefix": "del ",
     "library": "var_list.py",
     "varRefreshCmd": "print(var_dic_list())"
    },
    "r": {
     "delete_cmd_postfix": ") ",
     "delete_cmd_prefix": "rm(",
     "library": "var_list.r",
     "varRefreshCmd": "cat(var_dic_list()) "
    }
   },
   "types_to_exclude": [
    "module",
    "function",
    "builtin_function_or_method",
    "instance",
    "_Feature"
   ],
   "window_display": false
  }
 },
 "nbformat": 4,
 "nbformat_minor": 5
}
