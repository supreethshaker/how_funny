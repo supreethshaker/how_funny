{
 "cells": [
  {
   "cell_type": "code",
   "execution_count": 1,
   "id": "8cbab047",
   "metadata": {
    "ExecuteTime": {
     "end_time": "2021-11-24T00:34:37.222225Z",
     "start_time": "2021-11-24T00:34:30.783359Z"
    }
   },
   "outputs": [],
   "source": [
    "import tensorflow as tf\n",
    "import numpy as np\n",
    "import pandas as pd\n",
    "from keras.layers import Dense\n",
    "from keras.models import Sequential"
   ]
  },
  {
   "cell_type": "markdown",
   "id": "b447d2ec",
   "metadata": {},
   "source": [
    "# SVD - 200 Dimensions"
   ]
  },
  {
   "cell_type": "code",
   "execution_count": 2,
   "id": "3c122e2e",
   "metadata": {
    "ExecuteTime": {
     "end_time": "2021-11-24T00:34:41.573689Z",
     "start_time": "2021-11-24T00:34:37.226711Z"
    }
   },
   "outputs": [
    {
     "data": {
      "text/html": [
       "<div>\n",
       "<style scoped>\n",
       "    .dataframe tbody tr th:only-of-type {\n",
       "        vertical-align: middle;\n",
       "    }\n",
       "\n",
       "    .dataframe tbody tr th {\n",
       "        vertical-align: top;\n",
       "    }\n",
       "\n",
       "    .dataframe thead th {\n",
       "        text-align: right;\n",
       "    }\n",
       "</style>\n",
       "<table border=\"1\" class=\"dataframe\">\n",
       "  <thead>\n",
       "    <tr style=\"text-align: right;\">\n",
       "      <th></th>\n",
       "      <th>0</th>\n",
       "      <th>1</th>\n",
       "      <th>2</th>\n",
       "      <th>3</th>\n",
       "      <th>4</th>\n",
       "      <th>5</th>\n",
       "      <th>6</th>\n",
       "      <th>7</th>\n",
       "      <th>8</th>\n",
       "      <th>9</th>\n",
       "      <th>...</th>\n",
       "      <th>190</th>\n",
       "      <th>191</th>\n",
       "      <th>192</th>\n",
       "      <th>193</th>\n",
       "      <th>194</th>\n",
       "      <th>195</th>\n",
       "      <th>196</th>\n",
       "      <th>197</th>\n",
       "      <th>198</th>\n",
       "      <th>199</th>\n",
       "    </tr>\n",
       "  </thead>\n",
       "  <tbody>\n",
       "    <tr>\n",
       "      <th>0</th>\n",
       "      <td>0.005252</td>\n",
       "      <td>-0.013560</td>\n",
       "      <td>-0.007867</td>\n",
       "      <td>-0.016911</td>\n",
       "      <td>-0.018433</td>\n",
       "      <td>-0.018960</td>\n",
       "      <td>-0.011043</td>\n",
       "      <td>0.004777</td>\n",
       "      <td>-0.026965</td>\n",
       "      <td>0.063438</td>\n",
       "      <td>...</td>\n",
       "      <td>-0.007502</td>\n",
       "      <td>0.000017</td>\n",
       "      <td>-0.004262</td>\n",
       "      <td>0.005669</td>\n",
       "      <td>0.012530</td>\n",
       "      <td>-0.000369</td>\n",
       "      <td>-0.010953</td>\n",
       "      <td>-0.015376</td>\n",
       "      <td>-0.000434</td>\n",
       "      <td>-0.037892</td>\n",
       "    </tr>\n",
       "    <tr>\n",
       "      <th>1</th>\n",
       "      <td>0.012491</td>\n",
       "      <td>-0.021312</td>\n",
       "      <td>-0.010791</td>\n",
       "      <td>-0.020843</td>\n",
       "      <td>-0.019205</td>\n",
       "      <td>-0.022878</td>\n",
       "      <td>-0.011688</td>\n",
       "      <td>0.003812</td>\n",
       "      <td>-0.028853</td>\n",
       "      <td>0.072618</td>\n",
       "      <td>...</td>\n",
       "      <td>0.013402</td>\n",
       "      <td>-0.000207</td>\n",
       "      <td>0.003701</td>\n",
       "      <td>-0.005063</td>\n",
       "      <td>0.001639</td>\n",
       "      <td>-0.002404</td>\n",
       "      <td>0.000734</td>\n",
       "      <td>-0.019280</td>\n",
       "      <td>0.018306</td>\n",
       "      <td>0.019628</td>\n",
       "    </tr>\n",
       "    <tr>\n",
       "      <th>2</th>\n",
       "      <td>0.027225</td>\n",
       "      <td>-0.046861</td>\n",
       "      <td>-0.017244</td>\n",
       "      <td>-0.025060</td>\n",
       "      <td>-0.023346</td>\n",
       "      <td>-0.007615</td>\n",
       "      <td>0.000960</td>\n",
       "      <td>-0.000100</td>\n",
       "      <td>0.002158</td>\n",
       "      <td>-0.016322</td>\n",
       "      <td>...</td>\n",
       "      <td>-0.030689</td>\n",
       "      <td>-0.008760</td>\n",
       "      <td>0.013925</td>\n",
       "      <td>0.003984</td>\n",
       "      <td>-0.012520</td>\n",
       "      <td>0.002413</td>\n",
       "      <td>0.007308</td>\n",
       "      <td>-0.014777</td>\n",
       "      <td>0.007675</td>\n",
       "      <td>-0.002550</td>\n",
       "    </tr>\n",
       "    <tr>\n",
       "      <th>3</th>\n",
       "      <td>0.030470</td>\n",
       "      <td>-0.040777</td>\n",
       "      <td>-0.015003</td>\n",
       "      <td>0.027366</td>\n",
       "      <td>0.071245</td>\n",
       "      <td>-0.017944</td>\n",
       "      <td>-0.010504</td>\n",
       "      <td>-0.003882</td>\n",
       "      <td>-0.007058</td>\n",
       "      <td>0.002643</td>\n",
       "      <td>...</td>\n",
       "      <td>-0.000719</td>\n",
       "      <td>-0.003746</td>\n",
       "      <td>0.000049</td>\n",
       "      <td>-0.009241</td>\n",
       "      <td>0.010177</td>\n",
       "      <td>-0.008775</td>\n",
       "      <td>0.004654</td>\n",
       "      <td>0.007236</td>\n",
       "      <td>-0.001974</td>\n",
       "      <td>-0.005021</td>\n",
       "    </tr>\n",
       "    <tr>\n",
       "      <th>4</th>\n",
       "      <td>0.042985</td>\n",
       "      <td>-0.057601</td>\n",
       "      <td>-0.008764</td>\n",
       "      <td>0.044567</td>\n",
       "      <td>0.116571</td>\n",
       "      <td>-0.026565</td>\n",
       "      <td>-0.023426</td>\n",
       "      <td>-0.013947</td>\n",
       "      <td>-0.018174</td>\n",
       "      <td>-0.000469</td>\n",
       "      <td>...</td>\n",
       "      <td>-0.036012</td>\n",
       "      <td>0.020868</td>\n",
       "      <td>0.031079</td>\n",
       "      <td>0.026503</td>\n",
       "      <td>0.010610</td>\n",
       "      <td>0.023515</td>\n",
       "      <td>-0.033716</td>\n",
       "      <td>0.033814</td>\n",
       "      <td>0.054038</td>\n",
       "      <td>-0.040620</td>\n",
       "    </tr>\n",
       "  </tbody>\n",
       "</table>\n",
       "<p>5 rows × 200 columns</p>\n",
       "</div>"
      ],
      "text/plain": [
       "        0         1         2         3         4         5         6    \\\n",
       "0  0.005252 -0.013560 -0.007867 -0.016911 -0.018433 -0.018960 -0.011043   \n",
       "1  0.012491 -0.021312 -0.010791 -0.020843 -0.019205 -0.022878 -0.011688   \n",
       "2  0.027225 -0.046861 -0.017244 -0.025060 -0.023346 -0.007615  0.000960   \n",
       "3  0.030470 -0.040777 -0.015003  0.027366  0.071245 -0.017944 -0.010504   \n",
       "4  0.042985 -0.057601 -0.008764  0.044567  0.116571 -0.026565 -0.023426   \n",
       "\n",
       "        7         8         9    ...       190       191       192       193  \\\n",
       "0  0.004777 -0.026965  0.063438  ... -0.007502  0.000017 -0.004262  0.005669   \n",
       "1  0.003812 -0.028853  0.072618  ...  0.013402 -0.000207  0.003701 -0.005063   \n",
       "2 -0.000100  0.002158 -0.016322  ... -0.030689 -0.008760  0.013925  0.003984   \n",
       "3 -0.003882 -0.007058  0.002643  ... -0.000719 -0.003746  0.000049 -0.009241   \n",
       "4 -0.013947 -0.018174 -0.000469  ... -0.036012  0.020868  0.031079  0.026503   \n",
       "\n",
       "        194       195       196       197       198       199  \n",
       "0  0.012530 -0.000369 -0.010953 -0.015376 -0.000434 -0.037892  \n",
       "1  0.001639 -0.002404  0.000734 -0.019280  0.018306  0.019628  \n",
       "2 -0.012520  0.002413  0.007308 -0.014777  0.007675 -0.002550  \n",
       "3  0.010177 -0.008775  0.004654  0.007236 -0.001974 -0.005021  \n",
       "4  0.010610  0.023515 -0.033716  0.033814  0.054038 -0.040620  \n",
       "\n",
       "[5 rows x 200 columns]"
      ]
     },
     "execution_count": 2,
     "metadata": {},
     "output_type": "execute_result"
    }
   ],
   "source": [
    "X_train_200 = pd.read_csv('data/svd-200-train.csv', header=None)\n",
    "X_train_200.head()"
   ]
  },
  {
   "cell_type": "code",
   "execution_count": 3,
   "id": "e3f25f2a",
   "metadata": {
    "ExecuteTime": {
     "end_time": "2021-11-24T00:34:42.803563Z",
     "start_time": "2021-11-24T00:34:41.580715Z"
    }
   },
   "outputs": [
    {
     "data": {
      "text/html": [
       "<div>\n",
       "<style scoped>\n",
       "    .dataframe tbody tr th:only-of-type {\n",
       "        vertical-align: middle;\n",
       "    }\n",
       "\n",
       "    .dataframe tbody tr th {\n",
       "        vertical-align: top;\n",
       "    }\n",
       "\n",
       "    .dataframe thead th {\n",
       "        text-align: right;\n",
       "    }\n",
       "</style>\n",
       "<table border=\"1\" class=\"dataframe\">\n",
       "  <thead>\n",
       "    <tr style=\"text-align: right;\">\n",
       "      <th></th>\n",
       "      <th>0</th>\n",
       "      <th>1</th>\n",
       "      <th>2</th>\n",
       "      <th>3</th>\n",
       "      <th>4</th>\n",
       "      <th>5</th>\n",
       "      <th>6</th>\n",
       "      <th>7</th>\n",
       "      <th>8</th>\n",
       "      <th>9</th>\n",
       "      <th>...</th>\n",
       "      <th>190</th>\n",
       "      <th>191</th>\n",
       "      <th>192</th>\n",
       "      <th>193</th>\n",
       "      <th>194</th>\n",
       "      <th>195</th>\n",
       "      <th>196</th>\n",
       "      <th>197</th>\n",
       "      <th>198</th>\n",
       "      <th>199</th>\n",
       "    </tr>\n",
       "  </thead>\n",
       "  <tbody>\n",
       "    <tr>\n",
       "      <th>0</th>\n",
       "      <td>0.024080</td>\n",
       "      <td>-0.040219</td>\n",
       "      <td>-0.016300</td>\n",
       "      <td>-0.024721</td>\n",
       "      <td>-0.024317</td>\n",
       "      <td>-0.023194</td>\n",
       "      <td>-0.014202</td>\n",
       "      <td>0.007486</td>\n",
       "      <td>-0.007895</td>\n",
       "      <td>0.025100</td>\n",
       "      <td>...</td>\n",
       "      <td>0.018285</td>\n",
       "      <td>0.010522</td>\n",
       "      <td>0.016390</td>\n",
       "      <td>0.036001</td>\n",
       "      <td>0.017875</td>\n",
       "      <td>0.018099</td>\n",
       "      <td>0.000796</td>\n",
       "      <td>0.008951</td>\n",
       "      <td>-0.006911</td>\n",
       "      <td>-0.001840</td>\n",
       "    </tr>\n",
       "    <tr>\n",
       "      <th>1</th>\n",
       "      <td>0.062310</td>\n",
       "      <td>-0.094159</td>\n",
       "      <td>0.008240</td>\n",
       "      <td>-0.009508</td>\n",
       "      <td>-0.006649</td>\n",
       "      <td>0.028314</td>\n",
       "      <td>0.040965</td>\n",
       "      <td>-0.010619</td>\n",
       "      <td>-0.011797</td>\n",
       "      <td>0.039147</td>\n",
       "      <td>...</td>\n",
       "      <td>-0.002384</td>\n",
       "      <td>0.004021</td>\n",
       "      <td>0.006146</td>\n",
       "      <td>0.029058</td>\n",
       "      <td>0.018688</td>\n",
       "      <td>0.011553</td>\n",
       "      <td>-0.005140</td>\n",
       "      <td>0.007433</td>\n",
       "      <td>0.001044</td>\n",
       "      <td>-0.004237</td>\n",
       "    </tr>\n",
       "    <tr>\n",
       "      <th>2</th>\n",
       "      <td>0.109583</td>\n",
       "      <td>0.045117</td>\n",
       "      <td>-0.015728</td>\n",
       "      <td>-0.010687</td>\n",
       "      <td>-0.002880</td>\n",
       "      <td>-0.001391</td>\n",
       "      <td>0.005687</td>\n",
       "      <td>-0.007445</td>\n",
       "      <td>0.002788</td>\n",
       "      <td>0.004251</td>\n",
       "      <td>...</td>\n",
       "      <td>0.004379</td>\n",
       "      <td>-0.009919</td>\n",
       "      <td>-0.018508</td>\n",
       "      <td>-0.005307</td>\n",
       "      <td>-0.002563</td>\n",
       "      <td>0.003784</td>\n",
       "      <td>0.009513</td>\n",
       "      <td>0.012394</td>\n",
       "      <td>-0.002667</td>\n",
       "      <td>0.004442</td>\n",
       "    </tr>\n",
       "    <tr>\n",
       "      <th>3</th>\n",
       "      <td>0.116982</td>\n",
       "      <td>0.014511</td>\n",
       "      <td>-0.032015</td>\n",
       "      <td>-0.001304</td>\n",
       "      <td>0.009675</td>\n",
       "      <td>-0.012006</td>\n",
       "      <td>-0.006073</td>\n",
       "      <td>-0.005801</td>\n",
       "      <td>0.018002</td>\n",
       "      <td>-0.019039</td>\n",
       "      <td>...</td>\n",
       "      <td>-0.002608</td>\n",
       "      <td>0.000812</td>\n",
       "      <td>0.008337</td>\n",
       "      <td>-0.024127</td>\n",
       "      <td>0.013599</td>\n",
       "      <td>-0.006540</td>\n",
       "      <td>-0.009803</td>\n",
       "      <td>-0.007602</td>\n",
       "      <td>-0.005934</td>\n",
       "      <td>-0.006606</td>\n",
       "    </tr>\n",
       "    <tr>\n",
       "      <th>4</th>\n",
       "      <td>0.025310</td>\n",
       "      <td>-0.053041</td>\n",
       "      <td>-0.014107</td>\n",
       "      <td>-0.036522</td>\n",
       "      <td>-0.032750</td>\n",
       "      <td>-0.030626</td>\n",
       "      <td>-0.023010</td>\n",
       "      <td>0.008328</td>\n",
       "      <td>-0.004595</td>\n",
       "      <td>-0.032308</td>\n",
       "      <td>...</td>\n",
       "      <td>-0.027189</td>\n",
       "      <td>0.008026</td>\n",
       "      <td>0.010156</td>\n",
       "      <td>0.031844</td>\n",
       "      <td>0.003251</td>\n",
       "      <td>-0.022032</td>\n",
       "      <td>-0.009802</td>\n",
       "      <td>0.002932</td>\n",
       "      <td>-0.025524</td>\n",
       "      <td>0.004643</td>\n",
       "    </tr>\n",
       "  </tbody>\n",
       "</table>\n",
       "<p>5 rows × 200 columns</p>\n",
       "</div>"
      ],
      "text/plain": [
       "        0         1         2         3         4         5         6    \\\n",
       "0  0.024080 -0.040219 -0.016300 -0.024721 -0.024317 -0.023194 -0.014202   \n",
       "1  0.062310 -0.094159  0.008240 -0.009508 -0.006649  0.028314  0.040965   \n",
       "2  0.109583  0.045117 -0.015728 -0.010687 -0.002880 -0.001391  0.005687   \n",
       "3  0.116982  0.014511 -0.032015 -0.001304  0.009675 -0.012006 -0.006073   \n",
       "4  0.025310 -0.053041 -0.014107 -0.036522 -0.032750 -0.030626 -0.023010   \n",
       "\n",
       "        7         8         9    ...       190       191       192       193  \\\n",
       "0  0.007486 -0.007895  0.025100  ...  0.018285  0.010522  0.016390  0.036001   \n",
       "1 -0.010619 -0.011797  0.039147  ... -0.002384  0.004021  0.006146  0.029058   \n",
       "2 -0.007445  0.002788  0.004251  ...  0.004379 -0.009919 -0.018508 -0.005307   \n",
       "3 -0.005801  0.018002 -0.019039  ... -0.002608  0.000812  0.008337 -0.024127   \n",
       "4  0.008328 -0.004595 -0.032308  ... -0.027189  0.008026  0.010156  0.031844   \n",
       "\n",
       "        194       195       196       197       198       199  \n",
       "0  0.017875  0.018099  0.000796  0.008951 -0.006911 -0.001840  \n",
       "1  0.018688  0.011553 -0.005140  0.007433  0.001044 -0.004237  \n",
       "2 -0.002563  0.003784  0.009513  0.012394 -0.002667  0.004442  \n",
       "3  0.013599 -0.006540 -0.009803 -0.007602 -0.005934 -0.006606  \n",
       "4  0.003251 -0.022032 -0.009802  0.002932 -0.025524  0.004643  \n",
       "\n",
       "[5 rows x 200 columns]"
      ]
     },
     "execution_count": 3,
     "metadata": {},
     "output_type": "execute_result"
    }
   ],
   "source": [
    "X_test_200 = pd.read_csv('data/svd-200-test.csv', header=None)\n",
    "X_test_200.head()"
   ]
  },
  {
   "cell_type": "code",
   "execution_count": 4,
   "id": "0f0390d8",
   "metadata": {
    "ExecuteTime": {
     "end_time": "2021-11-24T00:34:42.842368Z",
     "start_time": "2021-11-24T00:34:42.809036Z"
    }
   },
   "outputs": [
    {
     "data": {
      "text/html": [
       "<div>\n",
       "<style scoped>\n",
       "    .dataframe tbody tr th:only-of-type {\n",
       "        vertical-align: middle;\n",
       "    }\n",
       "\n",
       "    .dataframe tbody tr th {\n",
       "        vertical-align: top;\n",
       "    }\n",
       "\n",
       "    .dataframe thead th {\n",
       "        text-align: right;\n",
       "    }\n",
       "</style>\n",
       "<table border=\"1\" class=\"dataframe\">\n",
       "  <thead>\n",
       "    <tr style=\"text-align: right;\">\n",
       "      <th></th>\n",
       "      <th>0</th>\n",
       "    </tr>\n",
       "  </thead>\n",
       "  <tbody>\n",
       "    <tr>\n",
       "      <th>0</th>\n",
       "      <td>-1.0</td>\n",
       "    </tr>\n",
       "    <tr>\n",
       "      <th>1</th>\n",
       "      <td>-1.0</td>\n",
       "    </tr>\n",
       "    <tr>\n",
       "      <th>2</th>\n",
       "      <td>-1.0</td>\n",
       "    </tr>\n",
       "    <tr>\n",
       "      <th>3</th>\n",
       "      <td>1.0</td>\n",
       "    </tr>\n",
       "    <tr>\n",
       "      <th>4</th>\n",
       "      <td>1.0</td>\n",
       "    </tr>\n",
       "  </tbody>\n",
       "</table>\n",
       "</div>"
      ],
      "text/plain": [
       "     0\n",
       "0 -1.0\n",
       "1 -1.0\n",
       "2 -1.0\n",
       "3  1.0\n",
       "4  1.0"
      ]
     },
     "execution_count": 4,
     "metadata": {},
     "output_type": "execute_result"
    }
   ],
   "source": [
    "y_train = pd.read_csv('data/svd-train-labels.csv', header=None)\n",
    "y_train.head()"
   ]
  },
  {
   "cell_type": "code",
   "execution_count": 5,
   "id": "ddd419c7",
   "metadata": {
    "ExecuteTime": {
     "end_time": "2021-11-24T00:34:42.916359Z",
     "start_time": "2021-11-24T00:34:42.846471Z"
    }
   },
   "outputs": [],
   "source": [
    "y = np.array([max(i[0], 0) for i in y_train.to_numpy()])"
   ]
  },
  {
   "cell_type": "code",
   "execution_count": 6,
   "id": "9fdfbb3e",
   "metadata": {
    "ExecuteTime": {
     "end_time": "2021-11-24T00:34:42.930592Z",
     "start_time": "2021-11-24T00:34:42.923117Z"
    }
   },
   "outputs": [
    {
     "data": {
      "text/plain": [
       "array([0., 0., 0., ..., 0., 1., 1.])"
      ]
     },
     "execution_count": 6,
     "metadata": {},
     "output_type": "execute_result"
    }
   ],
   "source": [
    "y"
   ]
  },
  {
   "cell_type": "code",
   "execution_count": 7,
   "id": "43b2156a",
   "metadata": {
    "ExecuteTime": {
     "end_time": "2021-11-24T00:34:42.959144Z",
     "start_time": "2021-11-24T00:34:42.936286Z"
    },
    "scrolled": true
   },
   "outputs": [
    {
     "data": {
      "text/html": [
       "<div>\n",
       "<style scoped>\n",
       "    .dataframe tbody tr th:only-of-type {\n",
       "        vertical-align: middle;\n",
       "    }\n",
       "\n",
       "    .dataframe tbody tr th {\n",
       "        vertical-align: top;\n",
       "    }\n",
       "\n",
       "    .dataframe thead th {\n",
       "        text-align: right;\n",
       "    }\n",
       "</style>\n",
       "<table border=\"1\" class=\"dataframe\">\n",
       "  <thead>\n",
       "    <tr style=\"text-align: right;\">\n",
       "      <th></th>\n",
       "      <th>0</th>\n",
       "    </tr>\n",
       "  </thead>\n",
       "  <tbody>\n",
       "    <tr>\n",
       "      <th>0</th>\n",
       "      <td>-1.0</td>\n",
       "    </tr>\n",
       "    <tr>\n",
       "      <th>1</th>\n",
       "      <td>1.0</td>\n",
       "    </tr>\n",
       "    <tr>\n",
       "      <th>2</th>\n",
       "      <td>1.0</td>\n",
       "    </tr>\n",
       "    <tr>\n",
       "      <th>3</th>\n",
       "      <td>1.0</td>\n",
       "    </tr>\n",
       "    <tr>\n",
       "      <th>4</th>\n",
       "      <td>-1.0</td>\n",
       "    </tr>\n",
       "  </tbody>\n",
       "</table>\n",
       "</div>"
      ],
      "text/plain": [
       "     0\n",
       "0 -1.0\n",
       "1  1.0\n",
       "2  1.0\n",
       "3  1.0\n",
       "4 -1.0"
      ]
     },
     "execution_count": 7,
     "metadata": {},
     "output_type": "execute_result"
    }
   ],
   "source": [
    "y_test = pd.read_csv('data/svd-test-labels.csv', header=None)\n",
    "y_test.head()"
   ]
  },
  {
   "cell_type": "code",
   "execution_count": 8,
   "id": "97efc8dc",
   "metadata": {
    "ExecuteTime": {
     "end_time": "2021-11-24T00:34:42.987664Z",
     "start_time": "2021-11-24T00:34:42.967323Z"
    }
   },
   "outputs": [],
   "source": [
    "y_test = np.array([max(i[0], 0) for i in y_test.to_numpy()])"
   ]
  },
  {
   "cell_type": "code",
   "execution_count": 9,
   "id": "9472f714",
   "metadata": {
    "ExecuteTime": {
     "end_time": "2021-11-24T00:34:43.053393Z",
     "start_time": "2021-11-24T00:34:42.995422Z"
    }
   },
   "outputs": [],
   "source": [
    "model_200 = Sequential([\n",
    "    Dense(2048, activation='relu', input_shape=(200,)),\n",
    "    Dense(1, activation='sigmoid')\n",
    "    \n",
    "])"
   ]
  },
  {
   "cell_type": "code",
   "execution_count": 10,
   "id": "ddf87422",
   "metadata": {
    "ExecuteTime": {
     "end_time": "2021-11-24T00:34:43.234841Z",
     "start_time": "2021-11-24T00:34:43.057830Z"
    }
   },
   "outputs": [],
   "source": [
    "model_200.compile(optimizer='adam',\n",
    "             loss=tf.keras.losses.BinaryCrossentropy(),\n",
    "             metrics=['accuracy']\n",
    "             )"
   ]
  },
  {
   "cell_type": "code",
   "execution_count": 11,
   "id": "ca315f96",
   "metadata": {
    "ExecuteTime": {
     "end_time": "2021-11-24T00:34:43.243909Z",
     "start_time": "2021-11-24T00:34:43.239356Z"
    }
   },
   "outputs": [],
   "source": [
    "es = tf.keras.callbacks.EarlyStopping(monitor='val_loss', patience=5)"
   ]
  },
  {
   "cell_type": "code",
   "execution_count": 12,
   "id": "51bfa2d6",
   "metadata": {
    "ExecuteTime": {
     "end_time": "2021-11-24T00:35:32.349881Z",
     "start_time": "2021-11-24T00:34:43.247436Z"
    }
   },
   "outputs": [
    {
     "name": "stdout",
     "output_type": "stream",
     "text": [
      "Epoch 1/100\n",
      "1250/1250 [==============================] - 6s 4ms/step - loss: 0.1874 - accuracy: 0.9317 - val_loss: 0.1598 - val_accuracy: 0.9394\n",
      "Epoch 2/100\n",
      "1250/1250 [==============================] - 5s 4ms/step - loss: 0.1344 - accuracy: 0.9483 - val_loss: 0.1368 - val_accuracy: 0.9506\n",
      "Epoch 3/100\n",
      "1250/1250 [==============================] - 5s 4ms/step - loss: 0.1131 - accuracy: 0.9564 - val_loss: 0.1103 - val_accuracy: 0.9598\n",
      "Epoch 4/100\n",
      "1250/1250 [==============================] - 5s 4ms/step - loss: 0.0950 - accuracy: 0.9642 - val_loss: 0.1040 - val_accuracy: 0.9621\n",
      "Epoch 5/100\n",
      "1250/1250 [==============================] - 5s 4ms/step - loss: 0.0819 - accuracy: 0.9700 - val_loss: 0.1050 - val_accuracy: 0.9628\n",
      "Epoch 6/100\n",
      "1250/1250 [==============================] - 5s 4ms/step - loss: 0.0721 - accuracy: 0.9733 - val_loss: 0.1004 - val_accuracy: 0.9646\n",
      "Epoch 7/100\n",
      "1250/1250 [==============================] - 4s 3ms/step - loss: 0.0636 - accuracy: 0.9775 - val_loss: 0.1078 - val_accuracy: 0.9639\n",
      "Epoch 8/100\n",
      "1250/1250 [==============================] - 4s 3ms/step - loss: 0.0574 - accuracy: 0.9792 - val_loss: 0.1171 - val_accuracy: 0.9625\n",
      "Epoch 9/100\n",
      "1250/1250 [==============================] - 3s 2ms/step - loss: 0.0526 - accuracy: 0.9808 - val_loss: 0.1147 - val_accuracy: 0.9633\n",
      "Epoch 10/100\n",
      "1250/1250 [==============================] - 3s 2ms/step - loss: 0.0463 - accuracy: 0.9832 - val_loss: 0.1124 - val_accuracy: 0.9648\n",
      "Epoch 11/100\n",
      "1250/1250 [==============================] - 3s 2ms/step - loss: 0.0430 - accuracy: 0.9851 - val_loss: 0.1229 - val_accuracy: 0.9635\n"
     ]
    },
    {
     "data": {
      "text/plain": [
       "<keras.callbacks.History at 0x7fd689882310>"
      ]
     },
     "execution_count": 12,
     "metadata": {},
     "output_type": "execute_result"
    }
   ],
   "source": [
    "model_200.fit(X_train_200, y, \n",
    "          validation_data=(X_test_200,y_test),\n",
    "          epochs=100,\n",
    "         callbacks=[es]\n",
    "         )"
   ]
  },
  {
   "cell_type": "code",
   "execution_count": 13,
   "id": "332b9fa1",
   "metadata": {
    "ExecuteTime": {
     "end_time": "2021-11-24T00:35:32.694313Z",
     "start_time": "2021-11-24T00:35:32.351754Z"
    }
   },
   "outputs": [],
   "source": [
    "pred_200 = np.round(model_200.predict(X_test_200))"
   ]
  },
  {
   "cell_type": "markdown",
   "id": "37607121",
   "metadata": {},
   "source": [
    "# SVD - 500 Dimensions "
   ]
  },
  {
   "cell_type": "code",
   "execution_count": 14,
   "id": "311a02db",
   "metadata": {
    "ExecuteTime": {
     "end_time": "2021-11-24T00:35:38.808280Z",
     "start_time": "2021-11-24T00:35:32.695946Z"
    }
   },
   "outputs": [],
   "source": [
    "X_train_500 = pd.read_csv('data/svd-500-train.csv', header=None)\n",
    "X_test_500 = pd.read_csv('data/svd-500-test.csv', header=None)"
   ]
  },
  {
   "cell_type": "code",
   "execution_count": 15,
   "id": "c6c7e512",
   "metadata": {
    "ExecuteTime": {
     "end_time": "2021-11-24T00:35:38.830658Z",
     "start_time": "2021-11-24T00:35:38.809887Z"
    }
   },
   "outputs": [],
   "source": [
    "model_500 = Sequential([\n",
    "    Dense(2048, activation='relu', input_shape=(500,)),\n",
    "    Dense(1, activation='sigmoid')\n",
    "    \n",
    "])\n",
    "\n",
    "model_500.compile(optimizer='adam',\n",
    "             loss=tf.keras.losses.BinaryCrossentropy(),\n",
    "             metrics=['accuracy']\n",
    "             )"
   ]
  },
  {
   "cell_type": "code",
   "execution_count": 16,
   "id": "ccc12a1e",
   "metadata": {
    "ExecuteTime": {
     "end_time": "2021-11-24T00:36:34.328444Z",
     "start_time": "2021-11-24T00:35:38.832082Z"
    }
   },
   "outputs": [
    {
     "name": "stdout",
     "output_type": "stream",
     "text": [
      "Epoch 1/100\n",
      "1250/1250 [==============================] - 6s 5ms/step - loss: 0.1769 - accuracy: 0.9333 - val_loss: 0.1252 - val_accuracy: 0.9527\n",
      "Epoch 2/100\n",
      "1250/1250 [==============================] - 6s 5ms/step - loss: 0.1133 - accuracy: 0.9568 - val_loss: 0.1013 - val_accuracy: 0.9623\n",
      "Epoch 3/100\n",
      "1250/1250 [==============================] - 6s 5ms/step - loss: 0.0874 - accuracy: 0.9674 - val_loss: 0.0993 - val_accuracy: 0.9627\n",
      "Epoch 4/100\n",
      "1250/1250 [==============================] - 6s 5ms/step - loss: 0.0633 - accuracy: 0.9772 - val_loss: 0.0884 - val_accuracy: 0.9678\n",
      "Epoch 5/100\n",
      "1250/1250 [==============================] - 6s 5ms/step - loss: 0.0455 - accuracy: 0.9844 - val_loss: 0.0914 - val_accuracy: 0.9679\n",
      "Epoch 6/100\n",
      "1250/1250 [==============================] - 6s 5ms/step - loss: 0.0322 - accuracy: 0.9898 - val_loss: 0.0932 - val_accuracy: 0.9683\n",
      "Epoch 7/100\n",
      "1250/1250 [==============================] - 6s 5ms/step - loss: 0.0225 - accuracy: 0.9936 - val_loss: 0.0898 - val_accuracy: 0.9717\n",
      "Epoch 8/100\n",
      "1250/1250 [==============================] - 6s 5ms/step - loss: 0.0171 - accuracy: 0.9952 - val_loss: 0.1014 - val_accuracy: 0.9697\n",
      "Epoch 9/100\n",
      "1250/1250 [==============================] - 6s 5ms/step - loss: 0.0132 - accuracy: 0.9963 - val_loss: 0.1057 - val_accuracy: 0.9700\n"
     ]
    },
    {
     "data": {
      "text/plain": [
       "<keras.callbacks.History at 0x7fd6c8eb55b0>"
      ]
     },
     "execution_count": 16,
     "metadata": {},
     "output_type": "execute_result"
    }
   ],
   "source": [
    "model_500.fit(X_train_500, y, \n",
    "              validation_data=(X_test_500,y_test),\n",
    "              epochs=100,\n",
    "              callbacks=[es]\n",
    "         )"
   ]
  },
  {
   "cell_type": "code",
   "execution_count": 17,
   "id": "efa83f15",
   "metadata": {
    "ExecuteTime": {
     "end_time": "2021-11-24T00:36:35.014484Z",
     "start_time": "2021-11-24T00:36:34.330512Z"
    }
   },
   "outputs": [],
   "source": [
    "pred_500 = np.round(model_500.predict(X_test_500))"
   ]
  },
  {
   "cell_type": "markdown",
   "id": "9ab6a16f",
   "metadata": {},
   "source": [
    "# Evaluate Neural Networks"
   ]
  },
  {
   "cell_type": "code",
   "execution_count": 18,
   "id": "54a2b052",
   "metadata": {
    "ExecuteTime": {
     "end_time": "2021-11-24T00:36:35.947468Z",
     "start_time": "2021-11-24T00:36:35.016121Z"
    }
   },
   "outputs": [],
   "source": [
    "from sklearn.metrics import accuracy_score, f1_score, precision_score, recall_score, confusion_matrix\n",
    "import seaborn as sns\n",
    "import matplotlib.pyplot as plt"
   ]
  },
  {
   "cell_type": "code",
   "execution_count": 19,
   "id": "d00db878",
   "metadata": {
    "ExecuteTime": {
     "end_time": "2021-11-24T00:36:35.955943Z",
     "start_time": "2021-11-24T00:36:35.948870Z"
    }
   },
   "outputs": [],
   "source": [
    "def evaluate_model(model, train, y_train, test, y_test):\n",
    "    pred_train = np.round(model.predict(train))\n",
    "    pred_test = np.round(model.predict(test))\n",
    "    \n",
    "    train_acc = accuracy_score(y_train, pred_train)\n",
    "    train_f1 = f1_score(y_train, pred_train)\n",
    "    train_precision = precision_score(y_train, pred_train)\n",
    "    train_recall = recall_score(y_train, pred_train)\n",
    "    \n",
    "    test_acc = accuracy_score(y_test, pred_test)\n",
    "    test_f1 = f1_score(y_test, pred_test)\n",
    "    test_precision = precision_score(y_test, pred_test)\n",
    "    test_recall = recall_score(y_test, pred_test)\n",
    "    \n",
    "    \n",
    "    plt.figure(figsize=(5,5))\n",
    "    cm = confusion_matrix(y_train, pred_train)\n",
    "    sns.heatmap(cm, cmap='Blues', annot=True, fmt='g')\n",
    "    plt.title(\"Train: True Labels vs Predicted Labels\")\n",
    "    \n",
    "    plt.figure(figsize=(5,5))\n",
    "    cm = confusion_matrix(y_test, pred_test)\n",
    "    sns.heatmap(cm, cmap='Blues', annot=True, fmt='g')\n",
    "    plt.title(\"Test: True Labels vs Predicted Labels\")\n",
    "    \n",
    "    print(\"Train Accuracy:  %f\" % (train_acc))\n",
    "    print(\"Train F1-Score:  %f\" %(train_f1))\n",
    "    print(\"Train Precision: %f\" %(train_precision))\n",
    "    print(\"Train Recall:    %f\" %(train_recall))\n",
    "    print()\n",
    "    print(\"Test Accuracy:   %f\" % (test_acc))\n",
    "    print(\"Test F1-Score:   %f\" %(test_f1))\n",
    "    print(\"Test Precision:  %f\" %(test_precision))\n",
    "    print(\"Test Recall:     %f\" %(test_recall))\n",
    "    \n",
    "    metrics = {\n",
    "        'train_accuracy': train_acc,\n",
    "        'train_f1':train_f1,\n",
    "        'train_precision':train_precision,\n",
    "        'train_recall':train_recall,\n",
    "        'test_accuracy':test_acc,\n",
    "        'test_f1':test_f1,\n",
    "        'test_precision':test_precision,\n",
    "        'test_recall':test_recall,\n",
    "    }\n",
    "    return metrics\n",
    "    "
   ]
  },
  {
   "cell_type": "code",
   "execution_count": 20,
   "id": "30690e6d",
   "metadata": {
    "ExecuteTime": {
     "end_time": "2021-11-24T00:36:37.784228Z",
     "start_time": "2021-11-24T00:36:35.957865Z"
    }
   },
   "outputs": [
    {
     "name": "stdout",
     "output_type": "stream",
     "text": [
      "Train Accuracy:  0.988900\n",
      "Train F1-Score:  0.988834\n",
      "Train Precision: 0.993632\n",
      "Train Recall:    0.984082\n",
      "\n",
      "Test Accuracy:   0.963500\n",
      "Test F1-Score:   0.963547\n",
      "Test Precision:  0.966540\n",
      "Test Recall:     0.960573\n"
     ]
    },
    {
     "data": {
      "image/png": "[encoded data removed]",
      "text/plain": [
       "<Figure size 360x360 with 2 Axes>"
      ]
     },
     "metadata": {
      "needs_background": "light"
     },
     "output_type": "display_data"
    },
    {
     "data": {
      "image/png": "[encoded data removed]",
      "text/plain": [
       "<Figure size 360x360 with 2 Axes>"
      ]
     },
     "metadata": {
      "needs_background": "light"
     },
     "output_type": "display_data"
    }
   ],
   "source": [
    "model_200_metrics = evaluate_model(model_200, X_train_200, y, X_test_200, y_test)"
   ]
  },
  {
   "cell_type": "code",
   "execution_count": 21,
   "id": "64bf9cae",
   "metadata": {
    "ExecuteTime": {
     "end_time": "2021-11-24T00:36:41.419476Z",
     "start_time": "2021-11-24T00:36:37.786378Z"
    }
   },
   "outputs": [
    {
     "name": "stdout",
     "output_type": "stream",
     "text": [
      "Train Accuracy:  0.998025\n",
      "Train F1-Score:  0.998023\n",
      "Train Precision: 0.997699\n",
      "Train Recall:    0.998348\n",
      "\n",
      "Test Accuracy:   0.970000\n",
      "Test F1-Score:   0.970131\n",
      "Test Precision:  0.970131\n",
      "Test Recall:     0.970131\n"
     ]
    },
    {
     "data": {
      "image/png": "[encoded data removed]",
      "text/plain": [
       "<Figure size 360x360 with 2 Axes>"
      ]
     },
     "metadata": {
      "needs_background": "light"
     },
     "output_type": "display_data"
    },
    {
     "data": {
      "image/png": "[encoded data removed]",
      "text/plain": [
       "<Figure size 360x360 with 2 Axes>"
      ]
     },
     "metadata": {
      "needs_background": "light"
     },
     "output_type": "display_data"
    }
   ],
   "source": [
    "model_500_metrics = evaluate_model(model_500, X_train_500, y, X_test_500, y_test)"
   ]
  }
 ],
 "metadata": {
  "hide_input": false,
  "kernelspec": {
   "display_name": "Python [conda env:tf] *",
   "language": "python",
   "name": "conda-env-tf-py"
  },
  "language_info": {
   "codemirror_mode": {
    "name": "ipython",
    "version": 3
   },
   "file_extension": ".py",
   "mimetype": "text/x-python",
   "name": "python",
   "nbconvert_exporter": "python",
   "pygments_lexer": "ipython3",
   "version": "3.8.11"
  },
  "toc": {
   "base_numbering": 1,
   "nav_menu": {},
   "number_sections": true,
   "sideBar": true,
   "skip_h1_title": false,
   "title_cell": "Table of Contents",
   "title_sidebar": "Contents",
   "toc_cell": false,
   "toc_position": {},
   "toc_section_display": true,
   "toc_window_display": false
  },
  "varInspector": {
   "cols": {
    "lenName": 16,
    "lenType": 16,
    "lenVar": 40
   },
   "kernels_config": {
    "python": {
     "delete_cmd_postfix": "",
     "delete_cmd_prefix": "del ",
     "library": "var_list.py",
     "varRefreshCmd": "print(var_dic_list())"
    },
    "r": {
     "delete_cmd_postfix": ") ",
     "delete_cmd_prefix": "rm(",
     "library": "var_list.r",
     "varRefreshCmd": "cat(var_dic_list()) "
    }
   },
   "types_to_exclude": [
    "module",
    "function",
    "builtin_function_or_method",
    "instance",
    "_Feature"
   ],
   "window_display": false
  }
 },
 "nbformat": 4,
 "nbformat_minor": 5
}
