{
 "cells": [
  {
   "cell_type": "code",
   "execution_count": 1,
   "id": "4f5793d8",
   "metadata": {
    "ExecuteTime": {
     "end_time": "2021-11-24T00:33:50.076165Z",
     "start_time": "2021-11-24T00:33:45.509632Z"
    }
   },
   "outputs": [],
   "source": [
    "import tensorflow as tf\n",
    "import numpy as np\n",
    "import pandas as pd\n",
    "import seaborn as sns\n",
    "import matplotlib.pyplot as plt\n",
    "\n",
    "from keras.layers import Dense\n",
    "from keras.models import Sequential\n",
    "from sklearn.feature_extraction.text import TfidfVectorizer\n",
    "from sklearn.model_selection import train_test_split\n",
    "from sklearn.feature_selection import chi2, SelectKBest\n",
    "from sklearn.metrics import accuracy_score, f1_score, precision_score, recall_score, confusion_matrix"
   ]
  },
  {
   "cell_type": "markdown",
   "id": "81e3e4e3",
   "metadata": {},
   "source": [
    "# Load Cleaned Data"
   ]
  },
  {
   "cell_type": "code",
   "execution_count": 2,
   "id": "6036437c",
   "metadata": {
    "ExecuteTime": {
     "end_time": "2021-11-24T00:33:54.249479Z",
     "start_time": "2021-11-24T00:33:50.077687Z"
    }
   },
   "outputs": [
    {
     "name": "stderr",
     "output_type": "stream",
     "text": [
      "/opt/anaconda3/envs/tf/lib/python3.8/site-packages/IPython/core/interactiveshell.py:3441: DtypeWarning: Columns (0) have mixed types.Specify dtype option on import or set low_memory=False.\n",
      "  exec(code_obj, self.user_global_ns, self.user_ns)\n"
     ]
    },
    {
     "data": {
      "text/html": [
       "<div>\n",
       "<style scoped>\n",
       "    .dataframe tbody tr th:only-of-type {\n",
       "        vertical-align: middle;\n",
       "    }\n",
       "\n",
       "    .dataframe tbody tr th {\n",
       "        vertical-align: top;\n",
       "    }\n",
       "\n",
       "    .dataframe thead th {\n",
       "        text-align: right;\n",
       "    }\n",
       "</style>\n",
       "<table border=\"1\" class=\"dataframe\">\n",
       "  <thead>\n",
       "    <tr style=\"text-align: right;\">\n",
       "      <th></th>\n",
       "      <th>Unnamed: 0</th>\n",
       "      <th>original text</th>\n",
       "      <th>cleaned text</th>\n",
       "      <th>joke</th>\n",
       "    </tr>\n",
       "  </thead>\n",
       "  <tbody>\n",
       "    <tr>\n",
       "      <th>0</th>\n",
       "      <td>0</td>\n",
       "      <td>I am soooo glad I'm not circumcised! My corona...</td>\n",
       "      <td>soooo glad circumcised corona covered foreskin...</td>\n",
       "      <td>1.0</td>\n",
       "    </tr>\n",
       "    <tr>\n",
       "      <th>1</th>\n",
       "      <td>1</td>\n",
       "      <td>Did you know Google now has a platform for rec...</td>\n",
       "      <td>know google platform recording bowel movements...</td>\n",
       "      <td>1.0</td>\n",
       "    </tr>\n",
       "    <tr>\n",
       "      <th>2</th>\n",
       "      <td>2</td>\n",
       "      <td>What is the difference between my wife and my ...</td>\n",
       "      <td>difference wife vacuum vacuum nt snore sex amp...</td>\n",
       "      <td>1.0</td>\n",
       "    </tr>\n",
       "    <tr>\n",
       "      <th>3</th>\n",
       "      <td>3</td>\n",
       "      <td>What did the French man say to the attractive ...</td>\n",
       "      <td>french man say attractive teletubby oo lala</td>\n",
       "      <td>1.0</td>\n",
       "    </tr>\n",
       "    <tr>\n",
       "      <th>4</th>\n",
       "      <td>4</td>\n",
       "      <td>Yo Mama Yo momma's so fat, that when she went ...</td>\n",
       "      <td>yo mama yo momma fat went zoo hippos got jealous</td>\n",
       "      <td>1.0</td>\n",
       "    </tr>\n",
       "  </tbody>\n",
       "</table>\n",
       "</div>"
      ],
      "text/plain": [
       "  Unnamed: 0                                      original text  \\\n",
       "0          0  I am soooo glad I'm not circumcised! My corona...   \n",
       "1          1  Did you know Google now has a platform for rec...   \n",
       "2          2  What is the difference between my wife and my ...   \n",
       "3          3  What did the French man say to the attractive ...   \n",
       "4          4  Yo Mama Yo momma's so fat, that when she went ...   \n",
       "\n",
       "                                        cleaned text  joke  \n",
       "0  soooo glad circumcised corona covered foreskin...   1.0  \n",
       "1  know google platform recording bowel movements...   1.0  \n",
       "2  difference wife vacuum vacuum nt snore sex amp...   1.0  \n",
       "3        french man say attractive teletubby oo lala   1.0  \n",
       "4   yo mama yo momma fat went zoo hippos got jealous   1.0  "
      ]
     },
     "execution_count": 2,
     "metadata": {},
     "output_type": "execute_result"
    }
   ],
   "source": [
    "df = pd.read_csv(\"cleaned_data.csv\")\n",
    "df.head()"
   ]
  },
  {
   "cell_type": "code",
   "execution_count": 3,
   "id": "c02d646f",
   "metadata": {
    "ExecuteTime": {
     "end_time": "2021-11-24T00:33:54.270008Z",
     "start_time": "2021-11-24T00:33:54.251724Z"
    }
   },
   "outputs": [],
   "source": [
    "df = df.drop(columns=df.columns.values[0:2])"
   ]
  },
  {
   "cell_type": "code",
   "execution_count": 4,
   "id": "03c9afd7",
   "metadata": {
    "ExecuteTime": {
     "end_time": "2021-11-24T00:33:54.389696Z",
     "start_time": "2021-11-24T00:33:54.271964Z"
    }
   },
   "outputs": [],
   "source": [
    "df = df.dropna()"
   ]
  },
  {
   "cell_type": "code",
   "execution_count": 5,
   "id": "0c15d6c5",
   "metadata": {
    "ExecuteTime": {
     "end_time": "2021-11-24T00:33:54.439776Z",
     "start_time": "2021-11-24T00:33:54.391128Z"
    }
   },
   "outputs": [],
   "source": [
    "df_jokes = df[df['joke'] > 0]\n",
    "df_non_jokes = df[df['joke'] < 0]"
   ]
  },
  {
   "cell_type": "code",
   "execution_count": 6,
   "id": "dacd828d",
   "metadata": {
    "ExecuteTime": {
     "end_time": "2021-11-24T00:33:54.490918Z",
     "start_time": "2021-11-24T00:33:54.441435Z"
    }
   },
   "outputs": [
    {
     "data": {
      "text/html": [
       "<div>\n",
       "<style scoped>\n",
       "    .dataframe tbody tr th:only-of-type {\n",
       "        vertical-align: middle;\n",
       "    }\n",
       "\n",
       "    .dataframe tbody tr th {\n",
       "        vertical-align: top;\n",
       "    }\n",
       "\n",
       "    .dataframe thead th {\n",
       "        text-align: right;\n",
       "    }\n",
       "</style>\n",
       "<table border=\"1\" class=\"dataframe\">\n",
       "  <thead>\n",
       "    <tr style=\"text-align: right;\">\n",
       "      <th></th>\n",
       "      <th>cleaned text</th>\n",
       "      <th>joke</th>\n",
       "    </tr>\n",
       "  </thead>\n",
       "  <tbody>\n",
       "    <tr>\n",
       "      <th>544835</th>\n",
       "      <td>walked bar saw fat bird dancing table went sai...</td>\n",
       "      <td>1.0</td>\n",
       "    </tr>\n",
       "    <tr>\n",
       "      <th>120452</th>\n",
       "      <td>band antivaxxers refuse listen cure</td>\n",
       "      <td>1.0</td>\n",
       "    </tr>\n",
       "    <tr>\n",
       "      <th>100104</th>\n",
       "      <td>call building got engaged premrs</td>\n",
       "      <td>1.0</td>\n",
       "    </tr>\n",
       "    <tr>\n",
       "      <th>501226</th>\n",
       "      <td>shit gross one best friend dad used tell us me...</td>\n",
       "      <td>1.0</td>\n",
       "    </tr>\n",
       "    <tr>\n",
       "      <th>752947</th>\n",
       "      <td>hear couple stole calendar got six months</td>\n",
       "      <td>1.0</td>\n",
       "    </tr>\n",
       "  </tbody>\n",
       "</table>\n",
       "</div>"
      ],
      "text/plain": [
       "                                             cleaned text  joke\n",
       "544835  walked bar saw fat bird dancing table went sai...   1.0\n",
       "120452                band antivaxxers refuse listen cure   1.0\n",
       "100104                   call building got engaged premrs   1.0\n",
       "501226  shit gross one best friend dad used tell us me...   1.0\n",
       "752947          hear couple stole calendar got six months   1.0"
      ]
     },
     "execution_count": 6,
     "metadata": {},
     "output_type": "execute_result"
    }
   ],
   "source": [
    "df = pd.concat([df_jokes.sample(25000, random_state=42),\n",
    "                df_non_jokes.sample(25000, random_state=42)])\n",
    "df.head()"
   ]
  },
  {
   "cell_type": "code",
   "execution_count": 7,
   "id": "31847d60",
   "metadata": {
    "ExecuteTime": {
     "end_time": "2021-11-24T00:33:54.495136Z",
     "start_time": "2021-11-24T00:33:54.492281Z"
    }
   },
   "outputs": [],
   "source": [
    "X = df.loc[:, 'cleaned text']\n",
    "y = df.loc[:, 'joke']"
   ]
  },
  {
   "cell_type": "code",
   "execution_count": 8,
   "id": "6d9a6b37",
   "metadata": {
    "ExecuteTime": {
     "end_time": "2021-11-24T00:33:54.506514Z",
     "start_time": "2021-11-24T00:33:54.498344Z"
    }
   },
   "outputs": [],
   "source": [
    "X_train, X_test, y_train, y_test = train_test_split(\n",
    "    X, y, train_size=0.8, random_state=42)"
   ]
  },
  {
   "cell_type": "markdown",
   "id": "a18a71c6",
   "metadata": {},
   "source": [
    "# TFIDF"
   ]
  },
  {
   "cell_type": "code",
   "execution_count": 9,
   "id": "521ca786",
   "metadata": {
    "ExecuteTime": {
     "end_time": "2021-11-24T00:33:54.511796Z",
     "start_time": "2021-11-24T00:33:54.509560Z"
    }
   },
   "outputs": [],
   "source": [
    "tfidf = TfidfVectorizer(ngram_range=(1, 2))"
   ]
  },
  {
   "cell_type": "code",
   "execution_count": 10,
   "id": "80fdd3ed",
   "metadata": {
    "ExecuteTime": {
     "end_time": "2021-11-24T00:33:58.464207Z",
     "start_time": "2021-11-24T00:33:54.513394Z"
    }
   },
   "outputs": [],
   "source": [
    "X_train_tfidf = tfidf.fit_transform(X_train)\n",
    "X_test_tfidf = tfidf.transform(X_test)"
   ]
  },
  {
   "cell_type": "markdown",
   "id": "0508e670",
   "metadata": {},
   "source": [
    "# Chi2 - Dimensionality Reduction "
   ]
  },
  {
   "cell_type": "code",
   "execution_count": 11,
   "id": "ea5ca0c1",
   "metadata": {
    "ExecuteTime": {
     "end_time": "2021-11-24T00:33:58.467817Z",
     "start_time": "2021-11-24T00:33:58.465636Z"
    }
   },
   "outputs": [],
   "source": [
    "chi_200 = SelectKBest(chi2, k=200)\n",
    "chi_500 = SelectKBest(chi2, k=500)"
   ]
  },
  {
   "cell_type": "code",
   "execution_count": 12,
   "id": "4d64b658",
   "metadata": {
    "ExecuteTime": {
     "end_time": "2021-11-24T00:33:58.952434Z",
     "start_time": "2021-11-24T00:33:58.469234Z"
    }
   },
   "outputs": [],
   "source": [
    "X_train_tfidf_200_chi = chi_200.fit_transform(X_train_tfidf, y_train)\n",
    "X_train_tfidf_500_chi = chi_500.fit_transform(X_train_tfidf, y_train)"
   ]
  },
  {
   "cell_type": "code",
   "execution_count": 13,
   "id": "7fd1b8e4",
   "metadata": {
    "ExecuteTime": {
     "end_time": "2021-11-24T00:33:59.119768Z",
     "start_time": "2021-11-24T00:33:58.953896Z"
    }
   },
   "outputs": [],
   "source": [
    "X_test_tfidf_200_chi = chi_200.transform(X_test_tfidf)\n",
    "X_test_tfidf_500_chi = chi_500.transform(X_test_tfidf)"
   ]
  },
  {
   "cell_type": "code",
   "execution_count": 14,
   "id": "39c98bd0",
   "metadata": {
    "ExecuteTime": {
     "end_time": "2021-11-24T00:33:59.216540Z",
     "start_time": "2021-11-24T00:33:59.121122Z"
    }
   },
   "outputs": [],
   "source": [
    "X_train_200 = X_train_tfidf_200_chi.toarray()\n",
    "X_train_500 = X_train_tfidf_500_chi.toarray()\n",
    "\n",
    "X_test_200 = X_test_tfidf_200_chi.toarray()\n",
    "X_test_500 = X_test_tfidf_500_chi.toarray()"
   ]
  },
  {
   "cell_type": "markdown",
   "id": "a551dd22",
   "metadata": {},
   "source": [
    "# Chi2 - 200 Dimensions"
   ]
  },
  {
   "cell_type": "code",
   "execution_count": 15,
   "id": "a7915659",
   "metadata": {
    "ExecuteTime": {
     "end_time": "2021-11-24T00:33:59.243660Z",
     "start_time": "2021-11-24T00:33:59.217939Z"
    }
   },
   "outputs": [],
   "source": [
    "y_train = np.array([max(i, 0) for i in y_train.to_numpy()])"
   ]
  },
  {
   "cell_type": "code",
   "execution_count": 16,
   "id": "62748e99",
   "metadata": {
    "ExecuteTime": {
     "end_time": "2021-11-24T00:33:59.248659Z",
     "start_time": "2021-11-24T00:33:59.245348Z"
    }
   },
   "outputs": [
    {
     "data": {
      "text/plain": [
       "array([0., 0., 0., ..., 0., 1., 1.])"
      ]
     },
     "execution_count": 16,
     "metadata": {},
     "output_type": "execute_result"
    }
   ],
   "source": [
    "y_train"
   ]
  },
  {
   "cell_type": "code",
   "execution_count": 17,
   "id": "d0606c76",
   "metadata": {
    "ExecuteTime": {
     "end_time": "2021-11-24T00:33:59.258686Z",
     "start_time": "2021-11-24T00:33:59.250101Z"
    }
   },
   "outputs": [],
   "source": [
    "y_test = np.array([max(i, 0) for i in y_test.to_numpy()])"
   ]
  },
  {
   "cell_type": "code",
   "execution_count": 18,
   "id": "4293bafd",
   "metadata": {
    "ExecuteTime": {
     "end_time": "2021-11-24T00:33:59.262980Z",
     "start_time": "2021-11-24T00:33:59.259925Z"
    }
   },
   "outputs": [
    {
     "data": {
      "text/plain": [
       "array([0., 1., 1., ..., 1., 1., 1.])"
      ]
     },
     "execution_count": 18,
     "metadata": {},
     "output_type": "execute_result"
    }
   ],
   "source": [
    "y_test"
   ]
  },
  {
   "cell_type": "code",
   "execution_count": 19,
   "id": "c5d26fd5",
   "metadata": {
    "ExecuteTime": {
     "end_time": "2021-11-24T00:33:59.290681Z",
     "start_time": "2021-11-24T00:33:59.264512Z"
    }
   },
   "outputs": [],
   "source": [
    "model_200 = Sequential([\n",
    "    Dense(2048, activation='relu', input_shape=(200,)),\n",
    "    Dense(1, activation='sigmoid')\n",
    "    \n",
    "])"
   ]
  },
  {
   "cell_type": "code",
   "execution_count": 20,
   "id": "cd1f9ee0",
   "metadata": {
    "ExecuteTime": {
     "end_time": "2021-11-24T00:33:59.394850Z",
     "start_time": "2021-11-24T00:33:59.292058Z"
    }
   },
   "outputs": [],
   "source": [
    "model_200.compile(optimizer='adam',\n",
    "             loss=tf.keras.losses.BinaryCrossentropy(),\n",
    "             metrics=['accuracy']\n",
    "             )"
   ]
  },
  {
   "cell_type": "code",
   "execution_count": 21,
   "id": "39e4f080",
   "metadata": {
    "ExecuteTime": {
     "end_time": "2021-11-24T00:33:59.398637Z",
     "start_time": "2021-11-24T00:33:59.396132Z"
    }
   },
   "outputs": [],
   "source": [
    "es = tf.keras.callbacks.EarlyStopping(monitor='val_loss', patience=5)"
   ]
  },
  {
   "cell_type": "code",
   "execution_count": 22,
   "id": "feeff02f",
   "metadata": {
    "ExecuteTime": {
     "end_time": "2021-11-24T00:34:20.715292Z",
     "start_time": "2021-11-24T00:33:59.400057Z"
    }
   },
   "outputs": [
    {
     "name": "stdout",
     "output_type": "stream",
     "text": [
      "Epoch 1/100\n",
      "1250/1250 [==============================] - 2s 2ms/step - loss: 0.2625 - accuracy: 0.8863 - val_loss: 0.2306 - val_accuracy: 0.9079\n",
      "Epoch 2/100\n",
      "1250/1250 [==============================] - 2s 2ms/step - loss: 0.2232 - accuracy: 0.9012 - val_loss: 0.2236 - val_accuracy: 0.9127\n",
      "Epoch 3/100\n",
      "1250/1250 [==============================] - 2s 2ms/step - loss: 0.2091 - accuracy: 0.9098 - val_loss: 0.2132 - val_accuracy: 0.9140\n",
      "Epoch 4/100\n",
      "1250/1250 [==============================] - 2s 2ms/step - loss: 0.1956 - accuracy: 0.9159 - val_loss: 0.2272 - val_accuracy: 0.9119\n",
      "Epoch 5/100\n",
      "1250/1250 [==============================] - 2s 2ms/step - loss: 0.1855 - accuracy: 0.9189 - val_loss: 0.2041 - val_accuracy: 0.9177\n",
      "Epoch 6/100\n",
      "1250/1250 [==============================] - 2s 2ms/step - loss: 0.1761 - accuracy: 0.9233 - val_loss: 0.2091 - val_accuracy: 0.9186\n",
      "Epoch 7/100\n",
      "1250/1250 [==============================] - 2s 2ms/step - loss: 0.1699 - accuracy: 0.9251 - val_loss: 0.2157 - val_accuracy: 0.9178\n",
      "Epoch 8/100\n",
      "1250/1250 [==============================] - 2s 2ms/step - loss: 0.1649 - accuracy: 0.9279 - val_loss: 0.2182 - val_accuracy: 0.9146\n",
      "Epoch 9/100\n",
      "1250/1250 [==============================] - 2s 2ms/step - loss: 0.1598 - accuracy: 0.9289 - val_loss: 0.2244 - val_accuracy: 0.9151\n",
      "Epoch 10/100\n",
      "1250/1250 [==============================] - 2s 2ms/step - loss: 0.1570 - accuracy: 0.9299 - val_loss: 0.2339 - val_accuracy: 0.9121\n"
     ]
    },
    {
     "data": {
      "text/plain": [
       "<keras.callbacks.History at 0x7fd959d74e20>"
      ]
     },
     "execution_count": 22,
     "metadata": {},
     "output_type": "execute_result"
    }
   ],
   "source": [
    "model_200.fit(X_train_200, y_train, \n",
    "          validation_data=(X_test_200,y_test),\n",
    "          epochs=100,\n",
    "         callbacks=[es]\n",
    "         )"
   ]
  },
  {
   "cell_type": "markdown",
   "id": "e7bdb3f5",
   "metadata": {},
   "source": [
    "# Chi2 - 500 Dimensions "
   ]
  },
  {
   "cell_type": "code",
   "execution_count": 23,
   "id": "c094878c",
   "metadata": {
    "ExecuteTime": {
     "end_time": "2021-11-24T00:34:20.750401Z",
     "start_time": "2021-11-24T00:34:20.723079Z"
    }
   },
   "outputs": [],
   "source": [
    "model_500 = Sequential([\n",
    "    Dense(2048, activation='relu', input_shape=(500,)),\n",
    "    Dense(1, activation='sigmoid')\n",
    "    \n",
    "])\n",
    "\n",
    "model_500.compile(optimizer='adam',\n",
    "             loss=tf.keras.losses.BinaryCrossentropy(),\n",
    "             metrics=['accuracy']\n",
    "             )"
   ]
  },
  {
   "cell_type": "code",
   "execution_count": 24,
   "id": "b222f24e",
   "metadata": {
    "ExecuteTime": {
     "end_time": "2021-11-24T00:35:16.993833Z",
     "start_time": "2021-11-24T00:34:20.755402Z"
    }
   },
   "outputs": [
    {
     "name": "stdout",
     "output_type": "stream",
     "text": [
      "Epoch 1/100\n",
      "1250/1250 [==============================] - 5s 4ms/step - loss: 0.2019 - accuracy: 0.9248 - val_loss: 0.1689 - val_accuracy: 0.9374\n",
      "Epoch 2/100\n",
      "1250/1250 [==============================] - 5s 4ms/step - loss: 0.1571 - accuracy: 0.9395 - val_loss: 0.1623 - val_accuracy: 0.9430\n",
      "Epoch 3/100\n",
      "1250/1250 [==============================] - 5s 4ms/step - loss: 0.1422 - accuracy: 0.9453 - val_loss: 0.1606 - val_accuracy: 0.9456\n",
      "Epoch 4/100\n",
      "1250/1250 [==============================] - 5s 4ms/step - loss: 0.1254 - accuracy: 0.9523 - val_loss: 0.1531 - val_accuracy: 0.9480\n",
      "Epoch 5/100\n",
      "1250/1250 [==============================] - 6s 4ms/step - loss: 0.1110 - accuracy: 0.9587 - val_loss: 0.1521 - val_accuracy: 0.9500\n",
      "Epoch 6/100\n",
      "1250/1250 [==============================] - 6s 5ms/step - loss: 0.0985 - accuracy: 0.9641 - val_loss: 0.1559 - val_accuracy: 0.9486\n",
      "Epoch 7/100\n",
      "1250/1250 [==============================] - 6s 5ms/step - loss: 0.0894 - accuracy: 0.9676 - val_loss: 0.1539 - val_accuracy: 0.9510\n",
      "Epoch 8/100\n",
      "1250/1250 [==============================] - 6s 5ms/step - loss: 0.0812 - accuracy: 0.9702 - val_loss: 0.1969 - val_accuracy: 0.9406\n",
      "Epoch 9/100\n",
      "1250/1250 [==============================] - 6s 5ms/step - loss: 0.0740 - accuracy: 0.9736 - val_loss: 0.1837 - val_accuracy: 0.9464\n",
      "Epoch 10/100\n",
      "1250/1250 [==============================] - 6s 5ms/step - loss: 0.0689 - accuracy: 0.9759 - val_loss: 0.1904 - val_accuracy: 0.9451\n"
     ]
    },
    {
     "data": {
      "text/plain": [
       "<keras.callbacks.History at 0x7fd958b1ba30>"
      ]
     },
     "execution_count": 24,
     "metadata": {},
     "output_type": "execute_result"
    }
   ],
   "source": [
    "model_500.fit(X_train_500, y_train, \n",
    "              validation_data=(X_test_500,y_test),\n",
    "              epochs=100,\n",
    "              callbacks=[es]\n",
    "         )"
   ]
  },
  {
   "cell_type": "markdown",
   "id": "38971071",
   "metadata": {},
   "source": [
    "# Evaluate Neural Networks"
   ]
  },
  {
   "cell_type": "code",
   "execution_count": 25,
   "id": "103f42a5",
   "metadata": {
    "ExecuteTime": {
     "end_time": "2021-11-24T00:35:17.008678Z",
     "start_time": "2021-11-24T00:35:16.996773Z"
    }
   },
   "outputs": [],
   "source": [
    "def evaluate_model(model, train, y_train, test, y_test):\n",
    "    pred_train = np.round(model.predict(train))\n",
    "    pred_test = np.round(model.predict(test))\n",
    "    \n",
    "    train_acc = accuracy_score(y_train, pred_train)\n",
    "    train_f1 = f1_score(y_train, pred_train)\n",
    "    train_precision = precision_score(y_train, pred_train)\n",
    "    train_recall = recall_score(y_train, pred_train)\n",
    "    \n",
    "    test_acc = accuracy_score(y_test, pred_test)\n",
    "    test_f1 = f1_score(y_test, pred_test)\n",
    "    test_precision = precision_score(y_test, pred_test)\n",
    "    test_recall = recall_score(y_test, pred_test)\n",
    "    \n",
    "    \n",
    "    plt.figure(figsize=(5,5))\n",
    "    cm = confusion_matrix(y_train, pred_train)\n",
    "    sns.heatmap(cm, cmap='Blues', annot=True, fmt='g')\n",
    "    plt.title(\"Train: True Labels vs Predicted Labels\")\n",
    "    \n",
    "    plt.figure(figsize=(5,5))\n",
    "    cm = confusion_matrix(y_test, pred_test)\n",
    "    sns.heatmap(cm, cmap='Blues', annot=True, fmt='g')\n",
    "    plt.title(\"Test: True Labels vs Predicted Labels\")\n",
    "    \n",
    "    print(\"Train Accuracy:  %f\" % (train_acc))\n",
    "    print(\"Train F1-Score:  %f\" %(train_f1))\n",
    "    print(\"Train Precision: %f\" %(train_precision))\n",
    "    print(\"Train Recall:    %f\" %(train_recall))\n",
    "    print()\n",
    "    print(\"Test Accuracy:   %f\" % (test_acc))\n",
    "    print(\"Test F1-Score:   %f\" %(test_f1))\n",
    "    print(\"Test Precision:  %f\" %(test_precision))\n",
    "    print(\"Test Recall:     %f\" %(test_recall))\n",
    "    \n",
    "    metrics = {\n",
    "        'train_accuracy': train_acc,\n",
    "        'train_f1':train_f1,\n",
    "        'train_precision':train_precision,\n",
    "        'train_recall':train_recall,\n",
    "        'test_accuracy':test_acc,\n",
    "        'test_f1':test_f1,\n",
    "        'test_precision':test_precision,\n",
    "        'test_recall':test_recall,\n",
    "    }\n",
    "    return metrics\n",
    "    "
   ]
  },
  {
   "cell_type": "code",
   "execution_count": 26,
   "id": "48a7ff5b",
   "metadata": {
    "ExecuteTime": {
     "end_time": "2021-11-24T00:35:19.584702Z",
     "start_time": "2021-11-24T00:35:17.011665Z"
    }
   },
   "outputs": [
    {
     "name": "stdout",
     "output_type": "stream",
     "text": [
      "Train Accuracy:  0.936025\n",
      "Train F1-Score:  0.937602\n",
      "Train Precision: 0.914087\n",
      "Train Recall:    0.962359\n",
      "\n",
      "Test Accuracy:   0.912100\n",
      "Test F1-Score:   0.917488\n",
      "Test Precision:  0.867874\n",
      "Test Recall:     0.973118\n"
     ]
    },
    {
     "data": {
      "image/png": "[encoded data removed]",
      "text/plain": [
       "<Figure size 360x360 with 2 Axes>"
      ]
     },
     "metadata": {
      "needs_background": "light"
     },
     "output_type": "display_data"
    },
    {
     "data": {
      "image/png": "[encoded data removed]",
      "text/plain": [
       "<Figure size 360x360 with 2 Axes>"
      ]
     },
     "metadata": {
      "needs_background": "light"
     },
     "output_type": "display_data"
    }
   ],
   "source": [
    "model_200_metrics = evaluate_model(model_200, \n",
    "                                   X_train_200, y_train, \n",
    "                                   X_test_200, y_test)"
   ]
  },
  {
   "cell_type": "code",
   "execution_count": 27,
   "id": "562b0cd4",
   "metadata": {
    "ExecuteTime": {
     "end_time": "2021-11-24T00:35:22.971197Z",
     "start_time": "2021-11-24T00:35:19.587555Z"
    }
   },
   "outputs": [
    {
     "name": "stdout",
     "output_type": "stream",
     "text": [
      "Train Accuracy:  0.980275\n",
      "Train F1-Score:  0.980352\n",
      "Train Precision: 0.975470\n",
      "Train Recall:    0.985284\n",
      "\n",
      "Test Accuracy:   0.945100\n",
      "Test F1-Score:   0.946818\n",
      "Test Precision:  0.921902\n",
      "Test Recall:     0.973118\n"
     ]
    },
    {
     "data": {
      "image/png": "[encoded data removed]",
      "text/plain": [
       "<Figure size 360x360 with 2 Axes>"
      ]
     },
     "metadata": {
      "needs_background": "light"
     },
     "output_type": "display_data"
    },
    {
     "data": {
      "image/png": "[encoded data removed]",
      "text/plain": [
       "<Figure size 360x360 with 2 Axes>"
      ]
     },
     "metadata": {
      "needs_background": "light"
     },
     "output_type": "display_data"
    }
   ],
   "source": [
    "model_500_metrics = evaluate_model(model_500, \n",
    "                                   X_train_500, y_train,\n",
    "                                   X_test_500, y_test)"
   ]
  },
  {
   "cell_type": "code",
   "execution_count": null,
   "id": "5590ee76",
   "metadata": {},
   "outputs": [],
   "source": []
  }
 ],
 "metadata": {
  "hide_input": false,
  "kernelspec": {
   "display_name": "Python [conda env:tf] *",
   "language": "python",
   "name": "conda-env-tf-py"
  },
  "language_info": {
   "codemirror_mode": {
    "name": "ipython",
    "version": 3
   },
   "file_extension": ".py",
   "mimetype": "text/x-python",
   "name": "python",
   "nbconvert_exporter": "python",
   "pygments_lexer": "ipython3",
   "version": "3.8.11"
  },
  "varInspector": {
   "cols": {
    "lenName": 16,
    "lenType": 16,
    "lenVar": 40
   },
   "kernels_config": {
    "python": {
     "delete_cmd_postfix": "",
     "delete_cmd_prefix": "del ",
     "library": "var_list.py",
     "varRefreshCmd": "print(var_dic_list())"
    },
    "r": {
     "delete_cmd_postfix": ") ",
     "delete_cmd_prefix": "rm(",
     "library": "var_list.r",
     "varRefreshCmd": "cat(var_dic_list()) "
    }
   },
   "types_to_exclude": [
    "module",
    "function",
    "builtin_function_or_method",
    "instance",
    "_Feature"
   ],
   "window_display": false
  }
 },
 "nbformat": 4,
 "nbformat_minor": 5
}
